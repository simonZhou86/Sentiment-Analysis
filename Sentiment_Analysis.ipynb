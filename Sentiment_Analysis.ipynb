{
  "nbformat": 4,
  "nbformat_minor": 0,
  "metadata": {
    "colab": {
      "name": "Sentiment Analysis.ipynb",
      "provenance": [],
      "collapsed_sections": [
        "aU0n7AJBxcP2",
        "Xki-XPE3IgO9",
        "0A4ocCdADZFL",
        "8qLloH_RnDfV",
        "ColjW2F2l4Nn",
        "m082fbgWt3jq",
        "DSOWUoAyvgiK",
        "1PGUxNZQdWrt",
        "pwRpqGqK99IQ"
      ],
      "toc_visible": true,
      "machine_shape": "hm",
      "include_colab_link": true
    },
    "kernelspec": {
      "name": "python3",
      "display_name": "Python 3"
    },
    "accelerator": "GPU"
  },
  "cells": [
    {
      "cell_type": "markdown",
      "metadata": {
        "id": "view-in-github",
        "colab_type": "text"
      },
      "source": [
        "<a href=\"https://colab.research.google.com/github/simonZhou86/Sentiment-Analysis/blob/main/Sentiment_Analysis.ipynb\" target=\"_parent\"><img src=\"https://colab.research.google.com/assets/colab-badge.svg\" alt=\"Open In Colab\"/></a>"
      ]
    },
    {
      "cell_type": "markdown",
      "metadata": {
        "id": "VyHpPe9Pt_yY"
      },
      "source": [
        "# CISC 372 Assignnment 4 - Sentiment Analysis\n",
        "\n",
        "Author: Simon Zhou"
      ]
    },
    {
      "cell_type": "markdown",
      "metadata": {
        "id": "aU0n7AJBxcP2"
      },
      "source": [
        "## Loading Packages:"
      ]
    },
    {
      "cell_type": "code",
      "metadata": {
        "colab": {
          "base_uri": "https://localhost:8080/"
        },
        "id": "7yusOq8N60IN",
        "outputId": "772a7791-87dc-43e9-97c0-8ff411c07549"
      },
      "source": [
        "# loading the required packages\n",
        "import copy\n",
        "import pandas as pd\n",
        "from wordcloud import WordCloud, STOPWORDS, ImageColorGenerator\n",
        "from tensorflow.keras.preprocessing.text import Tokenizer\n",
        "from tensorflow.keras.preprocessing.sequence import pad_sequences\n",
        "from sklearn.model_selection import train_test_split\n",
        "from __future__ import absolute_import, division, print_function, unicode_literals\n",
        "from keras.utils import to_categorical\n",
        "import collections\n",
        "import matplotlib.pyplot as plt\n",
        "import numpy as np\n",
        "import tensorflow as tf\n",
        "from tensorflow import keras\n",
        "import re\n",
        "import nltk\n",
        "from nltk.tokenize import word_tokenize\n",
        "from nltk.stem import WordNetLemmatizer\n",
        "from tensorflow.keras.optimizers import Adam\n",
        "from sklearn.metrics import  f1_score\n",
        "from sklearn.metrics import confusion_matrix\n",
        "from gensim.models import KeyedVectors\n",
        "%matplotlib inline\n",
        "print(\"finish loading\")"
      ],
      "execution_count": null,
      "outputs": [
        {
          "output_type": "stream",
          "text": [
            "finish loading\n"
          ],
          "name": "stdout"
        }
      ]
    },
    {
      "cell_type": "code",
      "metadata": {
        "colab": {
          "base_uri": "https://localhost:8080/"
        },
        "id": "7k7PJFpniVPa",
        "outputId": "7cba5360-5dab-418d-a758-d10781c671f6"
      },
      "source": [
        "import nltk # downloading required packages from nltk\n",
        "nltk.download('punkt')\n",
        "nltk.download('wordnet')"
      ],
      "execution_count": null,
      "outputs": [
        {
          "output_type": "stream",
          "text": [
            "[nltk_data] Downloading package punkt to /root/nltk_data...\n",
            "[nltk_data]   Unzipping tokenizers/punkt.zip.\n",
            "[nltk_data] Downloading package wordnet to /root/nltk_data...\n",
            "[nltk_data]   Unzipping corpora/wordnet.zip.\n"
          ],
          "name": "stdout"
        },
        {
          "output_type": "execute_result",
          "data": {
            "text/plain": [
              "True"
            ]
          },
          "metadata": {
            "tags": []
          },
          "execution_count": 3
        }
      ]
    },
    {
      "cell_type": "code",
      "metadata": {
        "id": "fQhSr_LqSIg4"
      },
      "source": [
        "!wget -q https://github.com/CISC-372/Notebook/releases/download/a4/test.csv\n",
        "!wget -q https://github.com/CISC-372/Notebook/releases/download/a4/train.csv"
      ],
      "execution_count": null,
      "outputs": []
    },
    {
      "cell_type": "markdown",
      "metadata": {
        "id": "GLHvUOHGkqZK"
      },
      "source": [
        "## Text Understanding and Preprocessing:"
      ]
    },
    {
      "cell_type": "code",
      "metadata": {
        "id": "uaABvQpluwjs",
        "colab": {
          "base_uri": "https://localhost:8080/",
          "height": 419
        },
        "outputId": "dde98606-8d7d-4f37-af9f-3631bc8cc4a5"
      },
      "source": [
        "# comment your understanding of each function \n",
        "\n",
        "\n",
        "xy_train_df = pd.read_csv('train.csv')\n",
        "x_test_df  = pd.read_csv('test.csv', index_col='id') # remove the additional index column\n",
        "\n",
        "\n",
        "xy_train_df['length'] = xy_train_df.apply(lambda x: len(x.review), axis=1) # calculate each review length\n",
        "xy_train_df = xy_train_df.sort_values('length') # sort by length, in accsending order\n",
        "xy_train_df # display training dataset"
      ],
      "execution_count": null,
      "outputs": [
        {
          "output_type": "execute_result",
          "data": {
            "text/html": [
              "<div>\n",
              "<style scoped>\n",
              "    .dataframe tbody tr th:only-of-type {\n",
              "        vertical-align: middle;\n",
              "    }\n",
              "\n",
              "    .dataframe tbody tr th {\n",
              "        vertical-align: top;\n",
              "    }\n",
              "\n",
              "    .dataframe thead th {\n",
              "        text-align: right;\n",
              "    }\n",
              "</style>\n",
              "<table border=\"1\" class=\"dataframe\">\n",
              "  <thead>\n",
              "    <tr style=\"text-align: right;\">\n",
              "      <th></th>\n",
              "      <th>id</th>\n",
              "      <th>rating</th>\n",
              "      <th>review</th>\n",
              "      <th>length</th>\n",
              "    </tr>\n",
              "  </thead>\n",
              "  <tbody>\n",
              "    <tr>\n",
              "      <th>6037</th>\n",
              "      <td>2596</td>\n",
              "      <td>1</td>\n",
              "      <td>Five Stars_GOOD</td>\n",
              "      <td>15</td>\n",
              "    </tr>\n",
              "    <tr>\n",
              "      <th>5353</th>\n",
              "      <td>4643</td>\n",
              "      <td>1</td>\n",
              "      <td>Love it_Love it</td>\n",
              "      <td>15</td>\n",
              "    </tr>\n",
              "    <tr>\n",
              "      <th>2545</th>\n",
              "      <td>8791</td>\n",
              "      <td>1</td>\n",
              "      <td>Five Stars_Good</td>\n",
              "      <td>15</td>\n",
              "    </tr>\n",
              "    <tr>\n",
              "      <th>3902</th>\n",
              "      <td>6098</td>\n",
              "      <td>1</td>\n",
              "      <td>Five Stars_love!</td>\n",
              "      <td>16</td>\n",
              "    </tr>\n",
              "    <tr>\n",
              "      <th>2850</th>\n",
              "      <td>4609</td>\n",
              "      <td>1</td>\n",
              "      <td>love these_so cute!</td>\n",
              "      <td>19</td>\n",
              "    </tr>\n",
              "    <tr>\n",
              "      <th>...</th>\n",
              "      <td>...</td>\n",
              "      <td>...</td>\n",
              "      <td>...</td>\n",
              "      <td>...</td>\n",
              "    </tr>\n",
              "    <tr>\n",
              "      <th>5651</th>\n",
              "      <td>518</td>\n",
              "      <td>1</td>\n",
              "      <td>So far, it's awesome_Ok, so I'll say up front ...</td>\n",
              "      <td>5765</td>\n",
              "    </tr>\n",
              "    <tr>\n",
              "      <th>1615</th>\n",
              "      <td>124</td>\n",
              "      <td>1</td>\n",
              "      <td>It Works (Read Tips For Potential Effectivenes...</td>\n",
              "      <td>6740</td>\n",
              "    </tr>\n",
              "    <tr>\n",
              "      <th>5046</th>\n",
              "      <td>7257</td>\n",
              "      <td>1</td>\n",
              "      <td>An exquisitely effective product with an astou...</td>\n",
              "      <td>8082</td>\n",
              "    </tr>\n",
              "    <tr>\n",
              "      <th>4859</th>\n",
              "      <td>7555</td>\n",
              "      <td>1</td>\n",
              "      <td>Gorgeous professional looking manicure at home...</td>\n",
              "      <td>8134</td>\n",
              "    </tr>\n",
              "    <tr>\n",
              "      <th>2758</th>\n",
              "      <td>4823</td>\n",
              "      <td>1</td>\n",
              "      <td>WAITED TO WRITE THIS REVIEW UNTIL AFTER READIN...</td>\n",
              "      <td>12773</td>\n",
              "    </tr>\n",
              "  </tbody>\n",
              "</table>\n",
              "<p>6223 rows × 4 columns</p>\n",
              "</div>"
            ],
            "text/plain": [
              "        id  rating                                             review  length\n",
              "6037  2596       1                                    Five Stars_GOOD      15\n",
              "5353  4643       1                                    Love it_Love it      15\n",
              "2545  8791       1                                    Five Stars_Good      15\n",
              "3902  6098       1                                   Five Stars_love!      16\n",
              "2850  4609       1                                love these_so cute!      19\n",
              "...    ...     ...                                                ...     ...\n",
              "5651   518       1  So far, it's awesome_Ok, so I'll say up front ...    5765\n",
              "1615   124       1  It Works (Read Tips For Potential Effectivenes...    6740\n",
              "5046  7257       1  An exquisitely effective product with an astou...    8082\n",
              "4859  7555       1  Gorgeous professional looking manicure at home...    8134\n",
              "2758  4823       1  WAITED TO WRITE THIS REVIEW UNTIL AFTER READIN...   12773\n",
              "\n",
              "[6223 rows x 4 columns]"
            ]
          },
          "metadata": {
            "tags": []
          },
          "execution_count": 5
        }
      ]
    },
    {
      "cell_type": "code",
      "metadata": {
        "id": "11FFJcNoz3tt",
        "colab": {
          "base_uri": "https://localhost:8080/",
          "height": 80
        },
        "outputId": "61468e60-28c5-4140-d899-1bbff355a9b2"
      },
      "source": [
        "xy_train_df[xy_train_df[\"id\"] == 4823]"
      ],
      "execution_count": null,
      "outputs": [
        {
          "output_type": "execute_result",
          "data": {
            "text/html": [
              "<div>\n",
              "<style scoped>\n",
              "    .dataframe tbody tr th:only-of-type {\n",
              "        vertical-align: middle;\n",
              "    }\n",
              "\n",
              "    .dataframe tbody tr th {\n",
              "        vertical-align: top;\n",
              "    }\n",
              "\n",
              "    .dataframe thead th {\n",
              "        text-align: right;\n",
              "    }\n",
              "</style>\n",
              "<table border=\"1\" class=\"dataframe\">\n",
              "  <thead>\n",
              "    <tr style=\"text-align: right;\">\n",
              "      <th></th>\n",
              "      <th>id</th>\n",
              "      <th>rating</th>\n",
              "      <th>review</th>\n",
              "      <th>length</th>\n",
              "    </tr>\n",
              "  </thead>\n",
              "  <tbody>\n",
              "    <tr>\n",
              "      <th>2758</th>\n",
              "      <td>4823</td>\n",
              "      <td>1</td>\n",
              "      <td>WAITED TO WRITE THIS REVIEW UNTIL AFTER READIN...</td>\n",
              "      <td>12773</td>\n",
              "    </tr>\n",
              "  </tbody>\n",
              "</table>\n",
              "</div>"
            ],
            "text/plain": [
              "        id  rating                                             review  length\n",
              "2758  4823       1  WAITED TO WRITE THIS REVIEW UNTIL AFTER READIN...   12773"
            ]
          },
          "metadata": {
            "tags": []
          },
          "execution_count": 8
        }
      ]
    },
    {
      "cell_type": "code",
      "metadata": {
        "colab": {
          "base_uri": "https://localhost:8080/"
        },
        "id": "OPaeCSYxUmeB",
        "outputId": "3268bc7e-e16a-4961-a81f-f641b20b7f3f"
      },
      "source": [
        "xy_train_df.info() # get the basic information of the dataset"
      ],
      "execution_count": null,
      "outputs": [
        {
          "output_type": "stream",
          "text": [
            "<class 'pandas.core.frame.DataFrame'>\n",
            "Int64Index: 6223 entries, 6037 to 2758\n",
            "Data columns (total 4 columns):\n",
            " #   Column  Non-Null Count  Dtype \n",
            "---  ------  --------------  ----- \n",
            " 0   id      6223 non-null   int64 \n",
            " 1   rating  6223 non-null   int64 \n",
            " 2   review  6223 non-null   object\n",
            " 3   length  6223 non-null   int64 \n",
            "dtypes: int64(3), object(1)\n",
            "memory usage: 243.1+ KB\n"
          ],
          "name": "stdout"
        }
      ]
    },
    {
      "cell_type": "code",
      "metadata": {
        "colab": {
          "base_uri": "https://localhost:8080/",
          "height": 450
        },
        "id": "kkCMtsGR706C",
        "outputId": "6e3d1c06-6084-4f15-e056-d2f64e8bab46"
      },
      "source": [
        "x_test_df['length'] = x_test_df.apply(lambda x: len(x.review), axis=1)\n",
        "x_test_df = x_test_df.sort_values('length')\n",
        "x_test_df # display the test dataset"
      ],
      "execution_count": null,
      "outputs": [
        {
          "output_type": "execute_result",
          "data": {
            "text/html": [
              "<div>\n",
              "<style scoped>\n",
              "    .dataframe tbody tr th:only-of-type {\n",
              "        vertical-align: middle;\n",
              "    }\n",
              "\n",
              "    .dataframe tbody tr th {\n",
              "        vertical-align: top;\n",
              "    }\n",
              "\n",
              "    .dataframe thead th {\n",
              "        text-align: right;\n",
              "    }\n",
              "</style>\n",
              "<table border=\"1\" class=\"dataframe\">\n",
              "  <thead>\n",
              "    <tr style=\"text-align: right;\">\n",
              "      <th></th>\n",
              "      <th>review</th>\n",
              "      <th>length</th>\n",
              "    </tr>\n",
              "    <tr>\n",
              "      <th>id</th>\n",
              "      <th></th>\n",
              "      <th></th>\n",
              "    </tr>\n",
              "  </thead>\n",
              "  <tbody>\n",
              "    <tr>\n",
              "      <th>8950</th>\n",
              "      <td>Five Stars_Love them</td>\n",
              "      <td>20</td>\n",
              "    </tr>\n",
              "    <tr>\n",
              "      <th>4945</th>\n",
              "      <td>Five Stars_Nice color</td>\n",
              "      <td>21</td>\n",
              "    </tr>\n",
              "    <tr>\n",
              "      <th>9936</th>\n",
              "      <td>NICE_NICE PRODUCT LIKE AAA</td>\n",
              "      <td>26</td>\n",
              "    </tr>\n",
              "    <tr>\n",
              "      <th>4855</th>\n",
              "      <td>Five Stars_I like this color!</td>\n",
              "      <td>29</td>\n",
              "    </tr>\n",
              "    <tr>\n",
              "      <th>6853</th>\n",
              "      <td>One Star_boo. cheap, don't buy.</td>\n",
              "      <td>31</td>\n",
              "    </tr>\n",
              "    <tr>\n",
              "      <th>...</th>\n",
              "      <td>...</td>\n",
              "      <td>...</td>\n",
              "    </tr>\n",
              "    <tr>\n",
              "      <th>8122</th>\n",
              "      <td>Covers Grays_I bought this dye, Vidal Sassoon ...</td>\n",
              "      <td>4714</td>\n",
              "    </tr>\n",
              "    <tr>\n",
              "      <th>6835</th>\n",
              "      <td>The light I would have bought!_This light is c...</td>\n",
              "      <td>4801</td>\n",
              "    </tr>\n",
              "    <tr>\n",
              "      <th>3950</th>\n",
              "      <td>Clog Your Pores, Stay Dirty, Feel Stale_This i...</td>\n",
              "      <td>4895</td>\n",
              "    </tr>\n",
              "    <tr>\n",
              "      <th>5504</th>\n",
              "      <td>So far so good..._27MARCH11---------&gt;Okay, aft...</td>\n",
              "      <td>5489</td>\n",
              "    </tr>\n",
              "    <tr>\n",
              "      <th>9306</th>\n",
              "      <td>complex, confusing, does it work(?), just a 'p...</td>\n",
              "      <td>6980</td>\n",
              "    </tr>\n",
              "  </tbody>\n",
              "</table>\n",
              "<p>2667 rows × 2 columns</p>\n",
              "</div>"
            ],
            "text/plain": [
              "                                                 review  length\n",
              "id                                                             \n",
              "8950                               Five Stars_Love them      20\n",
              "4945                              Five Stars_Nice color      21\n",
              "9936                         NICE_NICE PRODUCT LIKE AAA      26\n",
              "4855                      Five Stars_I like this color!      29\n",
              "6853                    One Star_boo. cheap, don't buy.      31\n",
              "...                                                 ...     ...\n",
              "8122  Covers Grays_I bought this dye, Vidal Sassoon ...    4714\n",
              "6835  The light I would have bought!_This light is c...    4801\n",
              "3950  Clog Your Pores, Stay Dirty, Feel Stale_This i...    4895\n",
              "5504  So far so good..._27MARCH11--------->Okay, aft...    5489\n",
              "9306  complex, confusing, does it work(?), just a 'p...    6980\n",
              "\n",
              "[2667 rows x 2 columns]"
            ]
          },
          "metadata": {
            "tags": []
          },
          "execution_count": 6
        }
      ]
    },
    {
      "cell_type": "code",
      "metadata": {
        "id": "ejIpOMFABEuG"
      },
      "source": [
        "def parseWord(df, classes): # get a basic understanding of positive and negative sentences by displaying the most frequent words appear in both sentences\n",
        "    rslt = []\n",
        "    for re in df[df[\"rating\"] == classes][\"review\"]: # add the words to the list\n",
        "        rslt += re\n",
        "    text = \"\".join(rslt)\n",
        "    wordCloud = WordCloud(background_color = \"white\", max_words = 60, width = 1000, height = 500).generate(text) # generate a word cloud based on the text\n",
        "    plt.figure(num=None, figsize=(12, 10), dpi=80, facecolor='w', edgecolor='k')\n",
        "    plt.imshow(wordCloud, interpolation='bilinear')\n",
        "    plt.axis(\"off\")\n",
        "    plt.title(\"Word cloud for: \" + str(classes))\n",
        "    plt.show()"
      ],
      "execution_count": null,
      "outputs": []
    },
    {
      "cell_type": "code",
      "metadata": {
        "colab": {
          "base_uri": "https://localhost:8080/",
          "height": 825
        },
        "id": "eStz3UsSUg8B",
        "outputId": "2b12e354-540a-49c0-fff8-496dbae22709"
      },
      "source": [
        "parseWord(xy_train_df, 0)\n",
        "parseWord(xy_train_df, 1)"
      ],
      "execution_count": null,
      "outputs": [
        {
          "output_type": "display_data",
          "data": {
            "image/png": "[encoded data removed]",
            "text/plain": [
              "<Figure size 960x800 with 1 Axes>"
            ]
          },
          "metadata": {
            "tags": []
          }
        },
        {
          "output_type": "display_data",
          "data": {
            "image/png": "[encoded data removed]",
            "text/plain": [
              "<Figure size 960x800 with 1 Axes>"
            ]
          },
          "metadata": {
            "tags": []
          }
        }
      ]
    },
    {
      "cell_type": "markdown",
      "metadata": {
        "id": "mGfLoaEablj0"
      },
      "source": [
        "This is just to get a intuition which kinds of word may appear in the positive and negative sentences. I could not get any detailed information from the word cloud."
      ]
    },
    {
      "cell_type": "code",
      "metadata": {
        "colab": {
          "base_uri": "https://localhost:8080/",
          "height": 280
        },
        "id": "_NGB7MZGSn8H",
        "outputId": "fa88de05-421d-4e89-a372-df87c662b1d5"
      },
      "source": [
        "xy_train_df[\"rating\"].value_counts().plot.bar() # visualize the rating distribution"
      ],
      "execution_count": null,
      "outputs": [
        {
          "output_type": "execute_result",
          "data": {
            "text/plain": [
              "<matplotlib.axes._subplots.AxesSubplot at 0x7fe5e2698690>"
            ]
          },
          "metadata": {
            "tags": []
          },
          "execution_count": 6
        },
        {
          "output_type": "display_data",
          "data": {
            "image/png": "[encoded data removed]",
            "text/plain": [
              "<Figure size 432x288 with 1 Axes>"
            ]
          },
          "metadata": {
            "tags": [],
            "needs_background": "light"
          }
        }
      ]
    },
    {
      "cell_type": "markdown",
      "metadata": {
        "id": "YhboEh3FVnEs"
      },
      "source": [
        "Notice that the positive sentence is dominant. The dataset is extremely unbalanced."
      ]
    },
    {
      "cell_type": "code",
      "metadata": {
        "colab": {
          "base_uri": "https://localhost:8080/"
        },
        "id": "lSZXAIdFsBM2",
        "outputId": "100406d9-3328-44e2-bc2c-d233645ed712"
      },
      "source": [
        "negative, positive = np.bincount(xy_train_df[\"rating\"]) # count the number of negative and positive sentences\n",
        "print(\"negative sentences: {}, positive sentences: {}\".format(negative, positive))"
      ],
      "execution_count": null,
      "outputs": [
        {
          "output_type": "stream",
          "text": [
            "negative sentences: 771, positive sentences: 5452\n"
          ],
          "name": "stdout"
        }
      ]
    },
    {
      "cell_type": "code",
      "metadata": {
        "id": "I-Ud1AAKYBXi"
      },
      "source": [
        "review_list = [] # review list for this whole dataset\n",
        "for i in range(len(xy_train_df.review)):\n",
        "    review_list += xy_train_df.review[i]  # add the reviews to one list so that I could see the special characters later"
      ],
      "execution_count": null,
      "outputs": []
    },
    {
      "cell_type": "code",
      "metadata": {
        "colab": {
          "base_uri": "https://localhost:8080/"
        },
        "id": "Qto8n1gQYuVC",
        "outputId": "8a2286e1-392c-4c56-ce9d-a1a9174faaba"
      },
      "source": [
        "special_char = ' '\n",
        "for char in set(' '.join(review_list)):\n",
        "    if re.findall('[^A-Za-z]', char): # use regex to find special characters\n",
        "        special_char += char\n",
        "sorted(special_char)"
      ],
      "execution_count": null,
      "outputs": [
        {
          "output_type": "execute_result",
          "data": {
            "text/plain": [
              "[' ',\n",
              " ' ',\n",
              " '!',\n",
              " '#',\n",
              " '$',\n",
              " '%',\n",
              " '&',\n",
              " \"'\",\n",
              " '(',\n",
              " ')',\n",
              " '*',\n",
              " '+',\n",
              " ',',\n",
              " '-',\n",
              " '.',\n",
              " '/',\n",
              " '0',\n",
              " '1',\n",
              " '2',\n",
              " '3',\n",
              " '4',\n",
              " '5',\n",
              " '6',\n",
              " '7',\n",
              " '8',\n",
              " '9',\n",
              " ':',\n",
              " ';',\n",
              " '=',\n",
              " '>',\n",
              " '?',\n",
              " '@',\n",
              " '[',\n",
              " ']',\n",
              " '^',\n",
              " '_',\n",
              " '`',\n",
              " '{',\n",
              " '}',\n",
              " '~']"
            ]
          },
          "metadata": {
            "tags": []
          },
          "execution_count": 12
        }
      ]
    },
    {
      "cell_type": "markdown",
      "metadata": {
        "id": "2xAN2zSYcPzD"
      },
      "source": [
        "The above is the special characters(other than english letters) that appear in the review."
      ]
    },
    {
      "cell_type": "code",
      "metadata": {
        "id": "Mi8j4mkSgtoo"
      },
      "source": [
        "# text preprocessing and normalization:\n",
        "# In this function, I replace the special characters with the space,\n",
        "# change all letters to lower case, change the verb tense to default case\n",
        "def clean(df):\n",
        "    reviews = []\n",
        "    for comment in df['review']:       \n",
        "        #remove special characters\n",
        "        review_text = re.sub(\"[^a-zA-Z]\",\" \", comment)\n",
        "        #tokenize the sentences, change to lower case\n",
        "        words = word_tokenize(review_text.lower())\n",
        "        #lemmatize each word\n",
        "        lemmatizer = WordNetLemmatizer()\n",
        "        lemma_words = [lemmatizer.lemmatize(i) for i in words]\n",
        "        reviews.append(lemma_words)\n",
        "    return reviews\n"
      ],
      "execution_count": null,
      "outputs": []
    },
    {
      "cell_type": "code",
      "metadata": {
        "id": "PLOJ_fjphyt2"
      },
      "source": [
        "train_clean_sentence = clean(xy_train_df) # pre-processing \"review\" in training dataset"
      ],
      "execution_count": null,
      "outputs": []
    },
    {
      "cell_type": "code",
      "metadata": {
        "id": "fLEHd3LLozZC"
      },
      "source": [
        "test_clean_sentence = clean(x_test_df) # for consistency, pre-processing \"review\" in test dataset"
      ],
      "execution_count": null,
      "outputs": []
    },
    {
      "cell_type": "code",
      "metadata": {
        "colab": {
          "base_uri": "https://localhost:8080/"
        },
        "id": "vN3SYZbpipb6",
        "outputId": "d945555c-0134-4302-acaa-86ba60d5303e"
      },
      "source": [
        "print(len(train_clean_sentence)) # check for the function is correct or not by examing the length first. It is equal to the original dataset's length"
      ],
      "execution_count": null,
      "outputs": [
        {
          "output_type": "stream",
          "text": [
            "6223\n"
          ],
          "name": "stdout"
        }
      ]
    },
    {
      "cell_type": "code",
      "metadata": {
        "colab": {
          "base_uri": "https://localhost:8080/"
        },
        "id": "n9n8qChYis6U",
        "outputId": "fdcdd312-4797-4d7d-eaa7-fd6da2dec560"
      },
      "source": [
        "# visualize the change between the original sentence and cleaned sentence\n",
        "print(xy_train_df.iloc[0][\"review\"])\n",
        "print(' '.join(train_clean_sentence[0]))"
      ],
      "execution_count": null,
      "outputs": [
        {
          "output_type": "stream",
          "text": [
            "Five Stars_GOOD\n",
            "five star good\n"
          ],
          "name": "stdout"
        }
      ]
    },
    {
      "cell_type": "code",
      "metadata": {
        "colab": {
          "base_uri": "https://localhost:8080/"
        },
        "id": "30zvndDWmfRV",
        "outputId": "218e6a24-10fd-47ba-be9c-51b692ce04dc"
      },
      "source": [
        "train_clean_sentence[:10] # visualize the cleaned version"
      ],
      "execution_count": null,
      "outputs": [
        {
          "output_type": "execute_result",
          "data": {
            "text/plain": [
              "[['five', 'star', 'good'],\n",
              " ['love', 'it', 'love', 'it'],\n",
              " ['five', 'star', 'good'],\n",
              " ['five', 'star', 'love'],\n",
              " ['love', 'these', 'so', 'cute'],\n",
              " ['five', 'star', 'love', 'it'],\n",
              " ['four', 'star', 'awesome'],\n",
              " ['five', 'star', 'dry', 'handy'],\n",
              " ['five', 'star', 'the', 'best'],\n",
              " ['five', 'star', 'cool', 'color']]"
            ]
          },
          "metadata": {
            "tags": []
          },
          "execution_count": 18
        }
      ]
    },
    {
      "cell_type": "code",
      "metadata": {
        "id": "0Lr9zSvdqZEL"
      },
      "source": [
        "def replace(df, new): # create a new dataset with cleaned \"review\" column\n",
        "  df_temp = copy.deepcopy(df)\n",
        "  df_temp[\"review\"] = new\n",
        "  return df_temp"
      ],
      "execution_count": null,
      "outputs": []
    },
    {
      "cell_type": "code",
      "metadata": {
        "colab": {
          "base_uri": "https://localhost:8080/",
          "height": 204
        },
        "id": "hXCfOocwsX3-",
        "outputId": "eddb6af9-b885-4e9b-d2a9-65099cad9f0d"
      },
      "source": [
        "xy_train_new = replace(xy_train_df, train_clean_sentence)\n",
        "xy_train_new.head() # visualize the cleaned train dataset"
      ],
      "execution_count": null,
      "outputs": [
        {
          "output_type": "execute_result",
          "data": {
            "text/html": [
              "<div>\n",
              "<style scoped>\n",
              "    .dataframe tbody tr th:only-of-type {\n",
              "        vertical-align: middle;\n",
              "    }\n",
              "\n",
              "    .dataframe tbody tr th {\n",
              "        vertical-align: top;\n",
              "    }\n",
              "\n",
              "    .dataframe thead th {\n",
              "        text-align: right;\n",
              "    }\n",
              "</style>\n",
              "<table border=\"1\" class=\"dataframe\">\n",
              "  <thead>\n",
              "    <tr style=\"text-align: right;\">\n",
              "      <th></th>\n",
              "      <th>id</th>\n",
              "      <th>rating</th>\n",
              "      <th>review</th>\n",
              "      <th>length</th>\n",
              "    </tr>\n",
              "  </thead>\n",
              "  <tbody>\n",
              "    <tr>\n",
              "      <th>6037</th>\n",
              "      <td>2596</td>\n",
              "      <td>1</td>\n",
              "      <td>[five, star, good]</td>\n",
              "      <td>15</td>\n",
              "    </tr>\n",
              "    <tr>\n",
              "      <th>5353</th>\n",
              "      <td>4643</td>\n",
              "      <td>1</td>\n",
              "      <td>[love, it, love, it]</td>\n",
              "      <td>15</td>\n",
              "    </tr>\n",
              "    <tr>\n",
              "      <th>2545</th>\n",
              "      <td>8791</td>\n",
              "      <td>1</td>\n",
              "      <td>[five, star, good]</td>\n",
              "      <td>15</td>\n",
              "    </tr>\n",
              "    <tr>\n",
              "      <th>3902</th>\n",
              "      <td>6098</td>\n",
              "      <td>1</td>\n",
              "      <td>[five, star, love]</td>\n",
              "      <td>16</td>\n",
              "    </tr>\n",
              "    <tr>\n",
              "      <th>2850</th>\n",
              "      <td>4609</td>\n",
              "      <td>1</td>\n",
              "      <td>[love, these, so, cute]</td>\n",
              "      <td>19</td>\n",
              "    </tr>\n",
              "  </tbody>\n",
              "</table>\n",
              "</div>"
            ],
            "text/plain": [
              "        id  rating                   review  length\n",
              "6037  2596       1       [five, star, good]      15\n",
              "5353  4643       1     [love, it, love, it]      15\n",
              "2545  8791       1       [five, star, good]      15\n",
              "3902  6098       1       [five, star, love]      16\n",
              "2850  4609       1  [love, these, so, cute]      19"
            ]
          },
          "metadata": {
            "tags": []
          },
          "execution_count": 16
        }
      ]
    },
    {
      "cell_type": "code",
      "metadata": {
        "colab": {
          "base_uri": "https://localhost:8080/",
          "height": 450
        },
        "id": "4DfRbfwiqnRP",
        "outputId": "03ca1583-c4ef-42a2-85ba-ba79faa43181"
      },
      "source": [
        "x_test_new = replace(x_test_df, test_clean_sentence)\n",
        "x_test_new # visualized the cleaned test dataset"
      ],
      "execution_count": null,
      "outputs": [
        {
          "output_type": "execute_result",
          "data": {
            "text/html": [
              "<div>\n",
              "<style scoped>\n",
              "    .dataframe tbody tr th:only-of-type {\n",
              "        vertical-align: middle;\n",
              "    }\n",
              "\n",
              "    .dataframe tbody tr th {\n",
              "        vertical-align: top;\n",
              "    }\n",
              "\n",
              "    .dataframe thead th {\n",
              "        text-align: right;\n",
              "    }\n",
              "</style>\n",
              "<table border=\"1\" class=\"dataframe\">\n",
              "  <thead>\n",
              "    <tr style=\"text-align: right;\">\n",
              "      <th></th>\n",
              "      <th>review</th>\n",
              "      <th>length</th>\n",
              "    </tr>\n",
              "    <tr>\n",
              "      <th>id</th>\n",
              "      <th></th>\n",
              "      <th></th>\n",
              "    </tr>\n",
              "  </thead>\n",
              "  <tbody>\n",
              "    <tr>\n",
              "      <th>8950</th>\n",
              "      <td>[five, star, love, them]</td>\n",
              "      <td>20</td>\n",
              "    </tr>\n",
              "    <tr>\n",
              "      <th>4945</th>\n",
              "      <td>[five, star, nice, color]</td>\n",
              "      <td>21</td>\n",
              "    </tr>\n",
              "    <tr>\n",
              "      <th>9936</th>\n",
              "      <td>[nice, nice, product, like, aaa]</td>\n",
              "      <td>26</td>\n",
              "    </tr>\n",
              "    <tr>\n",
              "      <th>4855</th>\n",
              "      <td>[five, star, i, like, this, color]</td>\n",
              "      <td>29</td>\n",
              "    </tr>\n",
              "    <tr>\n",
              "      <th>6853</th>\n",
              "      <td>[one, star, boo, cheap, don, t, buy]</td>\n",
              "      <td>31</td>\n",
              "    </tr>\n",
              "    <tr>\n",
              "      <th>...</th>\n",
              "      <td>...</td>\n",
              "      <td>...</td>\n",
              "    </tr>\n",
              "    <tr>\n",
              "      <th>8122</th>\n",
              "      <td>[cover, gray, i, bought, this, dye, vidal, sas...</td>\n",
              "      <td>4714</td>\n",
              "    </tr>\n",
              "    <tr>\n",
              "      <th>6835</th>\n",
              "      <td>[the, light, i, would, have, bought, this, lig...</td>\n",
              "      <td>4801</td>\n",
              "    </tr>\n",
              "    <tr>\n",
              "      <th>3950</th>\n",
              "      <td>[clog, your, pore, stay, dirty, feel, stale, t...</td>\n",
              "      <td>4895</td>\n",
              "    </tr>\n",
              "    <tr>\n",
              "      <th>5504</th>\n",
              "      <td>[so, far, so, good, march, okay, after, readin...</td>\n",
              "      <td>5489</td>\n",
              "    </tr>\n",
              "    <tr>\n",
              "      <th>9306</th>\n",
              "      <td>[complex, confusing, doe, it, work, just, a, p...</td>\n",
              "      <td>6980</td>\n",
              "    </tr>\n",
              "  </tbody>\n",
              "</table>\n",
              "<p>2667 rows × 2 columns</p>\n",
              "</div>"
            ],
            "text/plain": [
              "                                                 review  length\n",
              "id                                                             \n",
              "8950                           [five, star, love, them]      20\n",
              "4945                          [five, star, nice, color]      21\n",
              "9936                   [nice, nice, product, like, aaa]      26\n",
              "4855                 [five, star, i, like, this, color]      29\n",
              "6853               [one, star, boo, cheap, don, t, buy]      31\n",
              "...                                                 ...     ...\n",
              "8122  [cover, gray, i, bought, this, dye, vidal, sas...    4714\n",
              "6835  [the, light, i, would, have, bought, this, lig...    4801\n",
              "3950  [clog, your, pore, stay, dirty, feel, stale, t...    4895\n",
              "5504  [so, far, so, good, march, okay, after, readin...    5489\n",
              "9306  [complex, confusing, doe, it, work, just, a, p...    6980\n",
              "\n",
              "[2667 rows x 2 columns]"
            ]
          },
          "metadata": {
            "tags": []
          },
          "execution_count": 17
        }
      ]
    },
    {
      "cell_type": "code",
      "metadata": {
        "id": "sE1b2iLHxhWF",
        "colab": {
          "base_uri": "https://localhost:8080/"
        },
        "outputId": "aab47f79-ac36-4dad-9572-b804c06872e9"
      },
      "source": [
        "print(len(list(xy_train_new[xy_train_new[\"id\"] == 4823][\"review\"])[0])) # the longest review in training dataset has 2260 tokens"
      ],
      "execution_count": null,
      "outputs": [
        {
          "output_type": "stream",
          "text": [
            "2260\n"
          ],
          "name": "stdout"
        }
      ]
    },
    {
      "cell_type": "code",
      "metadata": {
        "colab": {
          "base_uri": "https://localhost:8080/"
        },
        "id": "gPGyRAf0F8pr",
        "outputId": "76d6fb03-5581-4d54-e92a-b0059a08bb32"
      },
      "source": [
        "print(len(list(x_test_new.iloc[-1:][\"review\"])[0])) # the longest review in test dataset has 1170 tokens"
      ],
      "execution_count": null,
      "outputs": [
        {
          "output_type": "stream",
          "text": [
            "1170\n"
          ],
          "name": "stdout"
        }
      ]
    },
    {
      "cell_type": "code",
      "metadata": {
        "id": "dHl0DGCyvA7l",
        "colab": {
          "base_uri": "https://localhost:8080/"
        },
        "outputId": "d8b92d20-7388-4ccc-b709-df6b53224812"
      },
      "source": [
        "# comment your understanding of each function and each parameter below:\n",
        "\n",
        "\n",
        "\n",
        "vocab_size = 10000 # assume only deal with the top 10000 words\n",
        "max_len = 500 # max length of padding sequence (max 500 words) original has 256 words\n",
        "\n",
        "# xy_train, xy_validation = train_test_split(\n",
        "#     xy_train_df, test_size=0.2)\n",
        "\n",
        "# xy_train, xy_validation = train_test_split( # split the train dataset into train and validation\n",
        "#     xy_train_new, test_size=0.2, random_state = 42)\n",
        "\n",
        "xy_train, xy_validation = train_test_split( # split the train dataset into train and validation\n",
        "    xy_train_df, test_size=0.2, random_state = 42)\n",
        "\n",
        "# build vocabulary from training set\n",
        "tokenizer = Tokenizer(num_words=vocab_size)\n",
        "token_text = tokenizer.fit_on_texts(xy_train.review)\n",
        "\n",
        "\n",
        "# padding each word vector into equal length vector\n",
        "def _preprocess(texts):\n",
        "  return pad_sequences(\n",
        "      tokenizer.texts_to_sequences(texts),\n",
        "      maxlen=max_len, \n",
        "      padding='post'\n",
        "  )\n",
        "\n",
        "\n",
        "x_train = _preprocess(xy_train.review) # padding training dataset\n",
        "y_train = xy_train.rating\n",
        "\n",
        "x_valid = _preprocess(xy_validation.review) # padding validation dataset\n",
        "y_valid = xy_validation.rating\n",
        "\n",
        "x_test = _preprocess(x_test_df.review) # padding test dataset\n",
        "# x_test_new\n",
        "\n",
        "print(x_train.shape)\n",
        "print(x_valid.shape)\n",
        "print(x_test.shape)"
      ],
      "execution_count": null,
      "outputs": [
        {
          "output_type": "stream",
          "text": [
            "(4978, 500)\n",
            "(1245, 500)\n",
            "(2667, 500)\n"
          ],
          "name": "stdout"
        }
      ]
    },
    {
      "cell_type": "code",
      "metadata": {
        "colab": {
          "base_uri": "https://localhost:8080/"
        },
        "id": "Q3DXnsWxh0Xx",
        "outputId": "db2464f4-819c-4cc1-eec1-4607e2f77d78"
      },
      "source": [
        "#tokenizer.word_index\n",
        "len(tokenizer.word_index) # unique token"
      ],
      "execution_count": null,
      "outputs": [
        {
          "output_type": "execute_result",
          "data": {
            "text/plain": [
              "14705"
            ]
          },
          "metadata": {
            "tags": []
          },
          "execution_count": 9
        }
      ]
    },
    {
      "cell_type": "markdown",
      "metadata": {
        "id": "wiBJtAgpDVW6"
      },
      "source": [
        "## RNN approach:"
      ]
    },
    {
      "cell_type": "markdown",
      "metadata": {
        "id": "Xki-XPE3IgO9"
      },
      "source": [
        "### Basic Functions:"
      ]
    },
    {
      "cell_type": "code",
      "metadata": {
        "id": "q9PfH1WGIjFv"
      },
      "source": [
        "def plot_result(model_hist): # this function is to plot the accuracy/validation accuracy for the model\n",
        "  plt.plot(model_hist.history['accuracy'], label='accuracy') # retrieve the accuracy\n",
        "  plt.plot(model_hist.history['val_accuracy'], label = 'val_accuracy') # retrieve the validation accuracy\n",
        "  plt.xlabel('Epoch') # show the plot with the above two values included\n",
        "  plt.ylabel('Accuracy')\n",
        "  plt.ylim([0.5, 1])\n",
        "  plt.legend(loc='upper right')\n",
        "  plt.show()"
      ],
      "execution_count": null,
      "outputs": []
    },
    {
      "cell_type": "code",
      "metadata": {
        "id": "UO3Z9D6GnsO5"
      },
      "source": [
        "early_stopping = tf.keras.callbacks.EarlyStopping( # early stopping layer for prevent overfitting\n",
        "    monitor='val_accuracy', \n",
        "    verbose=1,\n",
        "    patience=3,\n",
        "    mode='max',\n",
        "    restore_best_weights=True)"
      ],
      "execution_count": null,
      "outputs": []
    },
    {
      "cell_type": "code",
      "metadata": {
        "id": "_9KxKSTznz9T"
      },
      "source": [
        "def get_cm(model, valid_x, valid_y): # get the confusion matrix for validation value and actual prediction\n",
        "  y_pred = predict_class(model, x_valid)\n",
        "  return confusion_matrix(y_valid, y_pred)"
      ],
      "execution_count": null,
      "outputs": []
    },
    {
      "cell_type": "code",
      "metadata": {
        "id": "NZfn8LPcpsrA"
      },
      "source": [
        "def predict_class(model, _dataset): # predict the class 0 or 1\n",
        "  classes = model.predict(_dataset) > 0.5\n",
        "  return np.squeeze(classes * 1)"
      ],
      "execution_count": null,
      "outputs": []
    },
    {
      "cell_type": "code",
      "metadata": {
        "id": "vYxGZ5c7qdlA"
      },
      "source": [
        "def make_submission(test_id, pred_val, fileName): # make the submission file\n",
        "  pd.DataFrame(\n",
        "    {'id': test_id,\n",
        "     'rating': pred_val}).to_csv(fileName, index=False)"
      ],
      "execution_count": null,
      "outputs": []
    },
    {
      "cell_type": "code",
      "metadata": {
        "colab": {
          "base_uri": "https://localhost:8080/"
        },
        "id": "1J8bprSHrx_2",
        "outputId": "d2f5b6cb-a453-4eca-ee9c-7035d58f2f14"
      },
      "source": [
        "# unbalanced data, want to exam whether set the class weight will increase the model accuracy or not\n",
        "class_0_weight = (1 / negative)*(negative + positive)/2.0 # scaling by total labels/2 suggested in the official document \n",
        "class_1_weight = (1 / positive)*(negative + positive)/2.0\n",
        "class_weight_total = {0: class_0_weight, 1: class_1_weight} # concate class weight of 0 and 1\n",
        "print('Weight for class 0: {}'.format(class_0_weight))\n",
        "print('Weight for class 1: {}'.format(class_1_weight))"
      ],
      "execution_count": null,
      "outputs": [
        {
          "output_type": "stream",
          "text": [
            "Weight for class 0: 4.035667963683528\n",
            "Weight for class 1: 0.5707079970652972\n"
          ],
          "name": "stdout"
        }
      ]
    },
    {
      "cell_type": "markdown",
      "metadata": {
        "id": "0A4ocCdADZFL"
      },
      "source": [
        "### Baseline Model: Provided by Prof. Ding"
      ]
    },
    {
      "cell_type": "code",
      "metadata": {
        "id": "_EtEv2RivFKP"
      },
      "source": [
        "# comment your understanding of each line and \n",
        "# the output shape of each line below. for each dimensionality, explains its \n",
        "# meaning. (e.g. None is the batch size)\n",
        "\n",
        "x = keras.Input((max_len)) # input is the length of each sentence, it is set to 256 in the previous sectioon\n",
        "\n",
        "embeded = keras.layers.Embedding(vocab_size, 20)(x) # embedding dimension is 20, the shape is [256, 20]\n",
        "\n",
        "averaged = tf.reduce_mean(embeded, axis=1) # dropout\n",
        "\n",
        "pred = keras.layers.Dense(1, activation=tf.nn.sigmoid)(averaged) # dense layer, shape [1]\n",
        "\n",
        "model = keras.Model(x, pred) # combining for a full model\n",
        "\n",
        "model.compile( # complie model\n",
        "    optimizer=Adam(clipnorm=4.), # clipnorm is used to prevent gradient explosion and vanish\n",
        "    loss='binary_crossentropy',\n",
        "    metrics=['accuracy'])"
      ],
      "execution_count": null,
      "outputs": []
    },
    {
      "cell_type": "code",
      "metadata": {
        "colab": {
          "base_uri": "https://localhost:8080/"
        },
        "id": "EMGH_lmeDrwj",
        "outputId": "bacac96d-4589-4282-ac12-9924c31eae09"
      },
      "source": [
        "model.summary() # get the model summary"
      ],
      "execution_count": null,
      "outputs": [
        {
          "output_type": "stream",
          "text": [
            "Model: \"model_1\"\n",
            "_________________________________________________________________\n",
            "Layer (type)                 Output Shape              Param #   \n",
            "=================================================================\n",
            "input_2 (InputLayer)         [(None, 256)]             0         \n",
            "_________________________________________________________________\n",
            "embedding_1 (Embedding)      (None, 256, 20)           200000    \n",
            "_________________________________________________________________\n",
            "tf.math.reduce_mean_1 (TFOpL (None, 20)                0         \n",
            "_________________________________________________________________\n",
            "dense_1 (Dense)              (None, 1)                 21        \n",
            "=================================================================\n",
            "Total params: 200,021\n",
            "Trainable params: 200,021\n",
            "Non-trainable params: 0\n",
            "_________________________________________________________________\n"
          ],
          "name": "stdout"
        }
      ]
    },
    {
      "cell_type": "code",
      "metadata": {
        "id": "Ul6NLiRA9xQ1",
        "colab": {
          "base_uri": "https://localhost:8080/"
        },
        "outputId": "bbef3613-5b50-4840-8ff8-4664d636e214"
      },
      "source": [
        "history = model.fit(x_train,\n",
        "                    y_train,\n",
        "                    epochs=5,\n",
        "                    batch_size=64,\n",
        "                    validation_data=(x_valid, y_valid),\n",
        "                    verbose=1) # train model, with validation data = validation set from train_test_split function"
      ],
      "execution_count": null,
      "outputs": [
        {
          "output_type": "stream",
          "text": [
            "Epoch 1/5\n",
            "78/78 [==============================] - 3s 7ms/step - loss: 0.6509 - accuracy: 0.8645 - val_loss: 0.5263 - val_accuracy: 0.8795\n",
            "Epoch 2/5\n",
            "78/78 [==============================] - 0s 5ms/step - loss: 0.4948 - accuracy: 0.8731 - val_loss: 0.4065 - val_accuracy: 0.8795\n",
            "Epoch 3/5\n",
            "78/78 [==============================] - 0s 5ms/step - loss: 0.3985 - accuracy: 0.8754 - val_loss: 0.3712 - val_accuracy: 0.8795\n",
            "Epoch 4/5\n",
            "78/78 [==============================] - 0s 5ms/step - loss: 0.3745 - accuracy: 0.8755 - val_loss: 0.3649 - val_accuracy: 0.8795\n",
            "Epoch 5/5\n",
            "78/78 [==============================] - 0s 5ms/step - loss: 0.3629 - accuracy: 0.8789 - val_loss: 0.3626 - val_accuracy: 0.8795\n"
          ],
          "name": "stdout"
        }
      ]
    },
    {
      "cell_type": "code",
      "metadata": {
        "id": "z_naN0rn3OlN",
        "colab": {
          "base_uri": "https://localhost:8080/"
        },
        "outputId": "2eb96638-6226-40b2-db85-0e02dcc168cc"
      },
      "source": [
        "model.evaluate(x_valid, y_valid) # evaluate the model performance in the validation dataset"
      ],
      "execution_count": null,
      "outputs": [
        {
          "output_type": "stream",
          "text": [
            "39/39 [==============================] - 0s 2ms/step - loss: 0.3626 - accuracy: 0.8795\n"
          ],
          "name": "stdout"
        },
        {
          "output_type": "execute_result",
          "data": {
            "text/plain": [
              "[0.36258718371391296, 0.8795180916786194]"
            ]
          },
          "metadata": {
            "tags": []
          },
          "execution_count": 62
        }
      ]
    },
    {
      "cell_type": "markdown",
      "metadata": {
        "id": "qUBmrkYsDle2"
      },
      "source": [
        "### GRU Model:"
      ]
    },
    {
      "cell_type": "markdown",
      "metadata": {
        "id": "8qLloH_RnDfV"
      },
      "source": [
        "#### One-Direction GRU:"
      ]
    },
    {
      "cell_type": "code",
      "metadata": {
        "colab": {
          "base_uri": "https://localhost:8080/"
        },
        "id": "c4t9tuU4l3s9",
        "outputId": "683d612f-63c0-4edc-fc71-9322fc69ff9a"
      },
      "source": [
        "# One direction, one layer GRU model\n",
        "model_GRU = tf.keras.Sequential([\n",
        "    tf.keras.layers.Embedding(len(tokenizer.word_index)+1, 256, input_length = max_len), # embedding shape: [max length of sentence, 256] = [256, 256]\n",
        "    tf.keras.layers.SpatialDropout1D(0.2),\n",
        "    tf.keras.layers.GRU(128), # GRU layer, 128 units\n",
        "    tf.keras.layers.Dense(128, activation='relu'), # Dense layer, 128 units\n",
        "    tf.keras.layers.Dropout(0.2), # dropout 20% of features\n",
        "    tf.keras.layers.Dense(1, activation='sigmoid') # Dense layer, 1 unit\n",
        "                        \n",
        "])\n",
        "model_GRU.compile(loss='binary_crossentropy', optimizer=Adam(clipnorm=4.), metrics=['accuracy']) # compile the model\n",
        "model_GRU.summary()"
      ],
      "execution_count": null,
      "outputs": [
        {
          "output_type": "stream",
          "text": [
            "Model: \"sequential\"\n",
            "_________________________________________________________________\n",
            "Layer (type)                 Output Shape              Param #   \n",
            "=================================================================\n",
            "embedding (Embedding)        (None, 256, 256)          3051008   \n",
            "_________________________________________________________________\n",
            "spatial_dropout1d (SpatialDr (None, 256, 256)          0         \n",
            "_________________________________________________________________\n",
            "gru (GRU)                    (None, 128)               148224    \n",
            "_________________________________________________________________\n",
            "dense (Dense)                (None, 128)               16512     \n",
            "_________________________________________________________________\n",
            "dropout (Dropout)            (None, 128)               0         \n",
            "_________________________________________________________________\n",
            "dense_1 (Dense)              (None, 1)                 129       \n",
            "=================================================================\n",
            "Total params: 3,215,873\n",
            "Trainable params: 3,215,873\n",
            "Non-trainable params: 0\n",
            "_________________________________________________________________\n"
          ],
          "name": "stdout"
        }
      ]
    },
    {
      "cell_type": "code",
      "metadata": {
        "colab": {
          "base_uri": "https://localhost:8080/"
        },
        "id": "1QjXbCjCnnuB",
        "outputId": "37e7dadb-a049-4ba4-eb4a-fb9929b441f9"
      },
      "source": [
        "history_GRU = model_GRU.fit(x_train,\n",
        "                    y_train,\n",
        "                    epochs=15,\n",
        "                    batch_size=64,\n",
        "                    validation_data=(x_valid, y_valid),\n",
        "                    verbose=1,\n",
        "                    callbacks=[early_stopping]) # train model with early stopping"
      ],
      "execution_count": null,
      "outputs": [
        {
          "output_type": "stream",
          "text": [
            "Epoch 1/15\n",
            "78/78 [==============================] - 34s 41ms/step - loss: 0.4583 - accuracy: 0.8453 - val_loss: 0.3956 - val_accuracy: 0.8675\n",
            "Epoch 2/15\n",
            "78/78 [==============================] - 3s 37ms/step - loss: 0.3789 - accuracy: 0.8756 - val_loss: 0.3943 - val_accuracy: 0.8675\n",
            "Epoch 3/15\n",
            "78/78 [==============================] - 3s 36ms/step - loss: 0.3459 - accuracy: 0.8900 - val_loss: 0.3911 - val_accuracy: 0.8675\n",
            "Epoch 4/15\n",
            "78/78 [==============================] - 3s 36ms/step - loss: 0.3565 - accuracy: 0.8826 - val_loss: 0.3996 - val_accuracy: 0.8683\n",
            "Epoch 5/15\n",
            "78/78 [==============================] - 3s 36ms/step - loss: 0.3579 - accuracy: 0.8836 - val_loss: 0.3933 - val_accuracy: 0.8651\n",
            "Epoch 6/15\n",
            "78/78 [==============================] - 3s 36ms/step - loss: 0.3459 - accuracy: 0.8914 - val_loss: 0.3952 - val_accuracy: 0.8659\n",
            "Epoch 7/15\n",
            "78/78 [==============================] - 3s 36ms/step - loss: 0.3617 - accuracy: 0.8817 - val_loss: 0.4113 - val_accuracy: 0.8610\n",
            "Restoring model weights from the end of the best epoch.\n",
            "Epoch 00007: early stopping\n"
          ],
          "name": "stdout"
        }
      ]
    },
    {
      "cell_type": "code",
      "metadata": {
        "colab": {
          "base_uri": "https://localhost:8080/"
        },
        "id": "iEoGxa49pdQj",
        "outputId": "b4604fd7-e415-4ff4-b5e9-dab4ed2c74fe"
      },
      "source": [
        "model_GRU.evaluate(x_valid, y_valid) # evaluate the model"
      ],
      "execution_count": null,
      "outputs": [
        {
          "output_type": "stream",
          "text": [
            "39/39 [==============================] - 0s 7ms/step - loss: 0.3996 - accuracy: 0.8683\n"
          ],
          "name": "stdout"
        },
        {
          "output_type": "execute_result",
          "data": {
            "text/plain": [
              "[0.3995600938796997, 0.8682730793952942]"
            ]
          },
          "metadata": {
            "tags": []
          },
          "execution_count": 30
        }
      ]
    },
    {
      "cell_type": "code",
      "metadata": {
        "colab": {
          "base_uri": "https://localhost:8080/"
        },
        "id": "H2TnZW3RpnMg",
        "outputId": "e10b8612-8784-4010-8d6e-c9278cfb89a7"
      },
      "source": [
        "print(get_cm(model_GRU, x_valid, y_valid)) # I could see that most of the reviews are classified as positive, just 1 review is classified as negative"
      ],
      "execution_count": null,
      "outputs": [
        {
          "output_type": "stream",
          "text": [
            "[[   1  164]\n",
            " [   0 1080]]\n"
          ],
          "name": "stdout"
        }
      ]
    },
    {
      "cell_type": "code",
      "metadata": {
        "id": "mUE6gLEoqS4u"
      },
      "source": [
        "make_submission(x_test_new.index, predict_class(model_GRU, x_test), \"submission_oneDirGRU.csv\") # ~0.87, basically same score as the base line"
      ],
      "execution_count": null,
      "outputs": []
    },
    {
      "cell_type": "markdown",
      "metadata": {
        "id": "2mTyonteCW_O"
      },
      "source": [
        "Observing that the performance between embed on 10000 vocabulary size and embed on the actual word size (len(tokenizer.word_index)) are the same. So at least thee two optionals is the same in the one directional GRU model"
      ]
    },
    {
      "cell_type": "markdown",
      "metadata": {
        "id": "ColjW2F2l4Nn"
      },
      "source": [
        "#### Bi-Directional GRU:"
      ]
    },
    {
      "cell_type": "markdown",
      "metadata": {
        "id": "m082fbgWt3jq"
      },
      "source": [
        "##### One layer Bi-Directional GRU:"
      ]
    },
    {
      "cell_type": "code",
      "metadata": {
        "colab": {
          "base_uri": "https://localhost:8080/"
        },
        "id": "8J1SL77at23j",
        "outputId": "853d86f5-08f3-4556-e8ae-06a8019ae660"
      },
      "source": [
        "# try model with class weight, since the data is extremely unbalanced\n",
        "model_biGRUone = tf.keras.Sequential([ # with class weight\n",
        "    tf.keras.layers.Embedding(len(tokenizer.word_index)+1, 256, input_length = max_original), # output dim = 256\n",
        "    tf.keras.layers.SpatialDropout1D(0.2), # dropout layer \n",
        "    tf.keras.layers.Bidirectional(tf.keras.layers.GRU(128)), # one bidirectional GRU layer with 128 units\n",
        "    tf.keras.layers.Dense(128, activation='relu'),\n",
        "    tf.keras.layers.Dropout(0.2), # another dropout layer\n",
        "    tf.keras.layers.Dense(1, activation='sigmoid')\n",
        "                        \n",
        "])\n",
        "model_biGRUone.compile(loss='binary_crossentropy', optimizer=Adam(clipnorm=4.), metrics=['accuracy'])\n",
        "model_biGRUone.summary()"
      ],
      "execution_count": null,
      "outputs": [
        {
          "output_type": "stream",
          "text": [
            "Model: \"sequential_2\"\n",
            "_________________________________________________________________\n",
            "Layer (type)                 Output Shape              Param #   \n",
            "=================================================================\n",
            "embedding_2 (Embedding)      (None, 256, 256)          3051008   \n",
            "_________________________________________________________________\n",
            "spatial_dropout1d_2 (Spatial (None, 256, 256)          0         \n",
            "_________________________________________________________________\n",
            "bidirectional_1 (Bidirection (None, 256)               296448    \n",
            "_________________________________________________________________\n",
            "dense_4 (Dense)              (None, 128)               32896     \n",
            "_________________________________________________________________\n",
            "dropout_2 (Dropout)          (None, 128)               0         \n",
            "_________________________________________________________________\n",
            "dense_5 (Dense)              (None, 1)                 129       \n",
            "=================================================================\n",
            "Total params: 3,380,481\n",
            "Trainable params: 3,380,481\n",
            "Non-trainable params: 0\n",
            "_________________________________________________________________\n"
          ],
          "name": "stdout"
        }
      ]
    },
    {
      "cell_type": "code",
      "metadata": {
        "colab": {
          "base_uri": "https://localhost:8080/"
        },
        "id": "fkl7doSGubHS",
        "outputId": "2998e3d6-502c-4760-8cc7-9b0ee219f4d1"
      },
      "source": [
        "history_biGRUone = model_biGRUone.fit(x_train,\n",
        "                    y_train,\n",
        "                    epochs=15,\n",
        "                    batch_size=64,\n",
        "                    validation_data=(x_valid, y_valid),\n",
        "                    verbose=1,\n",
        "                    callbacks=[early_stopping],\n",
        "                    class_weight=class_weight_total)"
      ],
      "execution_count": null,
      "outputs": [
        {
          "output_type": "stream",
          "text": [
            "Epoch 1/15\n",
            "78/78 [==============================] - 7s 59ms/step - loss: 0.5952 - accuracy: 0.8069 - val_loss: 0.3241 - val_accuracy: 0.8522\n",
            "Epoch 2/15\n",
            "78/78 [==============================] - 4s 52ms/step - loss: 0.2387 - accuracy: 0.9163 - val_loss: 0.2571 - val_accuracy: 0.8932\n",
            "Epoch 3/15\n",
            "78/78 [==============================] - 4s 52ms/step - loss: 0.1312 - accuracy: 0.9553 - val_loss: 0.2455 - val_accuracy: 0.9149\n",
            "Epoch 4/15\n",
            "78/78 [==============================] - 4s 52ms/step - loss: 0.0691 - accuracy: 0.9799 - val_loss: 0.3231 - val_accuracy: 0.8859\n",
            "Epoch 5/15\n",
            "78/78 [==============================] - 4s 50ms/step - loss: 0.0385 - accuracy: 0.9865 - val_loss: 0.2997 - val_accuracy: 0.8892\n",
            "Epoch 6/15\n",
            "78/78 [==============================] - 4s 51ms/step - loss: 0.0548 - accuracy: 0.9781 - val_loss: 0.2997 - val_accuracy: 0.9205\n",
            "Epoch 7/15\n",
            "78/78 [==============================] - 4s 52ms/step - loss: 0.0148 - accuracy: 0.9966 - val_loss: 0.4025 - val_accuracy: 0.9052\n",
            "Epoch 8/15\n",
            "78/78 [==============================] - 4s 51ms/step - loss: 0.0058 - accuracy: 0.9980 - val_loss: 0.5249 - val_accuracy: 0.9108\n",
            "Epoch 9/15\n",
            "78/78 [==============================] - 4s 51ms/step - loss: 0.0393 - accuracy: 0.9867 - val_loss: 0.3370 - val_accuracy: 0.9165\n",
            "Restoring model weights from the end of the best epoch.\n",
            "Epoch 00009: early stopping\n"
          ],
          "name": "stdout"
        }
      ]
    },
    {
      "cell_type": "markdown",
      "metadata": {
        "id": "Xd0vPa7d5yJF"
      },
      "source": [
        "Notice that the validation loss in unstable, while the training accuracy is strictly increasing. It is the signal of overfitting"
      ]
    },
    {
      "cell_type": "code",
      "metadata": {
        "colab": {
          "base_uri": "https://localhost:8080/"
        },
        "id": "mTFEh1q7vJJV",
        "outputId": "30ce84ff-f51d-4d60-e54d-9574bfb0830c"
      },
      "source": [
        "model_biGRUone.evaluate(x_valid, y_valid) # the performance is not good"
      ],
      "execution_count": null,
      "outputs": [
        {
          "output_type": "stream",
          "text": [
            "39/39 [==============================] - 0s 11ms/step - loss: 0.2997 - accuracy: 0.9205\n"
          ],
          "name": "stdout"
        },
        {
          "output_type": "execute_result",
          "data": {
            "text/plain": [
              "[0.2997424304485321, 0.9204819202423096]"
            ]
          },
          "metadata": {
            "tags": []
          },
          "execution_count": 44
        }
      ]
    },
    {
      "cell_type": "code",
      "metadata": {
        "colab": {
          "base_uri": "https://localhost:8080/"
        },
        "id": "63YEOxs-vQzt",
        "outputId": "4be1ae66-5343-4f46-a43b-2a0696b8650d"
      },
      "source": [
        "print(get_cm(model_biGRUone, x_valid, y_valid))"
      ],
      "execution_count": null,
      "outputs": [
        {
          "output_type": "stream",
          "text": [
            "[[ 107   58]\n",
            " [  41 1039]]\n"
          ],
          "name": "stdout"
        }
      ]
    },
    {
      "cell_type": "code",
      "metadata": {
        "id": "vrru_jJ6vnPw"
      },
      "source": [
        "make_submission(x_test_new.index, predict_class(model_biGRUone, x_test), \"submission_biDirGRUcw1.csv\")"
      ],
      "execution_count": null,
      "outputs": []
    },
    {
      "cell_type": "markdown",
      "metadata": {
        "id": "DSOWUoAyvgiK"
      },
      "source": [
        "##### Two-layer Bi-Derectional GRU:"
      ]
    },
    {
      "cell_type": "code",
      "metadata": {
        "colab": {
          "base_uri": "https://localhost:8080/"
        },
        "id": "MUS2t5w5Dz3g",
        "outputId": "62103e88-1a5e-4021-c309-069dd0f08e0a"
      },
      "source": [
        "model_biGRU = tf.keras.Sequential([ # with vocab_size = 10000, no class weight\n",
        "    tf.keras.layers.Embedding(vocab_size, 256, input_length = max_len),\n",
        "    tf.keras.layers.SpatialDropout1D(0.5), # dropout layer\n",
        "    tf.keras.layers.Bidirectional(tf.keras.layers.GRU(128, dropout = 0.5, recurrent_dropout = 0.5, return_sequences=True)),# in order to prevent overfitting, I add dropout parameter in the GRU layer\n",
        "    tf.keras.layers.Bidirectional(tf.keras.layers.GRU(64, dropout = 0.5, recurrent_dropout = 0.5)),\n",
        "    tf.keras.layers.Dense(128, activation='relu'),\n",
        "    tf.keras.layers.Dropout(0.2), # dropout layer\n",
        "    tf.keras.layers.Dense(1, activation='sigmoid')\n",
        "                        \n",
        "])\n",
        "\n",
        "model_biGRU.compile(loss='binary_crossentropy', optimizer=Adam(clipnorm=4.), metrics=['accuracy'])\n",
        "model_biGRU.summary()"
      ],
      "execution_count": null,
      "outputs": [
        {
          "output_type": "stream",
          "text": [
            "WARNING:tensorflow:Layer gru_2 will not use cuDNN kernel since it doesn't meet the cuDNN kernel criteria. It will use generic GPU kernel as fallback when running on GPU\n",
            "WARNING:tensorflow:Layer gru_2 will not use cuDNN kernel since it doesn't meet the cuDNN kernel criteria. It will use generic GPU kernel as fallback when running on GPU\n",
            "WARNING:tensorflow:Layer gru_2 will not use cuDNN kernel since it doesn't meet the cuDNN kernel criteria. It will use generic GPU kernel as fallback when running on GPU\n",
            "WARNING:tensorflow:Layer gru_3 will not use cuDNN kernel since it doesn't meet the cuDNN kernel criteria. It will use generic GPU kernel as fallback when running on GPU\n",
            "WARNING:tensorflow:Layer gru_3 will not use cuDNN kernel since it doesn't meet the cuDNN kernel criteria. It will use generic GPU kernel as fallback when running on GPU\n",
            "WARNING:tensorflow:Layer gru_3 will not use cuDNN kernel since it doesn't meet the cuDNN kernel criteria. It will use generic GPU kernel as fallback when running on GPU\n",
            "Model: \"sequential_2\"\n",
            "_________________________________________________________________\n",
            "Layer (type)                 Output Shape              Param #   \n",
            "=================================================================\n",
            "embedding_6 (Embedding)      (None, 256, 256)          2560000   \n",
            "_________________________________________________________________\n",
            "spatial_dropout1d_3 (Spatial (None, 256, 256)          0         \n",
            "_________________________________________________________________\n",
            "bidirectional_4 (Bidirection (None, 256, 256)          296448    \n",
            "_________________________________________________________________\n",
            "bidirectional_5 (Bidirection (None, 128)               123648    \n",
            "_________________________________________________________________\n",
            "dense_6 (Dense)              (None, 128)               16512     \n",
            "_________________________________________________________________\n",
            "dropout_2 (Dropout)          (None, 128)               0         \n",
            "_________________________________________________________________\n",
            "dense_7 (Dense)              (None, 1)                 129       \n",
            "=================================================================\n",
            "Total params: 2,996,737\n",
            "Trainable params: 2,996,737\n",
            "Non-trainable params: 0\n",
            "_________________________________________________________________\n"
          ],
          "name": "stdout"
        }
      ]
    },
    {
      "cell_type": "code",
      "metadata": {
        "colab": {
          "base_uri": "https://localhost:8080/"
        },
        "id": "vrHBEvBOXKPh",
        "outputId": "86acbbf0-381a-4dc1-f212-2019016a421b"
      },
      "source": [
        "history_biGRU = model_biGRU.fit(x_train,\n",
        "                    y_train,\n",
        "                    epochs=15,\n",
        "                    batch_size=64,\n",
        "                    validation_data=(x_valid, y_valid),\n",
        "                    verbose=1,\n",
        "                    callbacks=[early_stopping])"
      ],
      "execution_count": null,
      "outputs": [
        {
          "output_type": "stream",
          "text": [
            "Epoch 1/15\n",
            "78/78 [==============================] - 186s 2s/step - loss: 0.4334 - accuracy: 0.8639 - val_loss: 0.2313 - val_accuracy: 0.9060\n",
            "Epoch 2/15\n",
            "78/78 [==============================] - 178s 2s/step - loss: 0.2070 - accuracy: 0.9149 - val_loss: 0.1947 - val_accuracy: 0.9301\n",
            "Epoch 3/15\n",
            "78/78 [==============================] - 178s 2s/step - loss: 0.1353 - accuracy: 0.9491 - val_loss: 0.1890 - val_accuracy: 0.9285\n",
            "Epoch 4/15\n",
            "78/78 [==============================] - 180s 2s/step - loss: 0.1060 - accuracy: 0.9652 - val_loss: 0.1933 - val_accuracy: 0.9253\n",
            "Epoch 5/15\n",
            "78/78 [==============================] - 178s 2s/step - loss: 0.0727 - accuracy: 0.9756 - val_loss: 0.1935 - val_accuracy: 0.9293\n",
            "Epoch 6/15\n",
            "78/78 [==============================] - 179s 2s/step - loss: 0.0513 - accuracy: 0.9805 - val_loss: 0.2344 - val_accuracy: 0.9341\n",
            "Epoch 7/15\n",
            "78/78 [==============================] - 178s 2s/step - loss: 0.0356 - accuracy: 0.9884 - val_loss: 0.1992 - val_accuracy: 0.9277\n",
            "Epoch 8/15\n",
            "78/78 [==============================] - 178s 2s/step - loss: 0.0298 - accuracy: 0.9914 - val_loss: 0.3199 - val_accuracy: 0.9341\n",
            "Epoch 9/15\n",
            "78/78 [==============================] - 177s 2s/step - loss: 0.0281 - accuracy: 0.9898 - val_loss: 0.2474 - val_accuracy: 0.9261\n",
            "Epoch 10/15\n",
            "78/78 [==============================] - 177s 2s/step - loss: 0.0171 - accuracy: 0.9935 - val_loss: 0.2672 - val_accuracy: 0.9317\n",
            "Epoch 11/15\n",
            "78/78 [==============================] - 178s 2s/step - loss: 0.0140 - accuracy: 0.9963 - val_loss: 0.3754 - val_accuracy: 0.9317\n",
            "Restoring model weights from the end of the best epoch.\n",
            "Epoch 00011: early stopping\n"
          ],
          "name": "stdout"
        }
      ]
    },
    {
      "cell_type": "markdown",
      "metadata": {
        "id": "ahMBOuYl8OKW"
      },
      "source": [
        "The performance is better than the previous models, the validation loss is not changing too muchm and the accuracy is increasing strictly"
      ]
    },
    {
      "cell_type": "code",
      "metadata": {
        "colab": {
          "base_uri": "https://localhost:8080/"
        },
        "id": "-84RuOJCgplP",
        "outputId": "b327a7f6-8a70-4d71-8cbc-c7103604d96c"
      },
      "source": [
        "model_biGRU.evaluate(x_valid, y_valid)"
      ],
      "execution_count": null,
      "outputs": [
        {
          "output_type": "stream",
          "text": [
            "39/39 [==============================] - 6s 164ms/step - loss: 0.2344 - accuracy: 0.9341\n"
          ],
          "name": "stdout"
        },
        {
          "output_type": "execute_result",
          "data": {
            "text/plain": [
              "[0.2343965470790863, 0.9341365694999695]"
            ]
          },
          "metadata": {
            "tags": []
          },
          "execution_count": 111
        }
      ]
    },
    {
      "cell_type": "code",
      "metadata": {
        "colab": {
          "base_uri": "https://localhost:8080/"
        },
        "id": "1HOF285zgvnQ",
        "outputId": "86a83a56-11f5-454c-f062-d798ca553880"
      },
      "source": [
        "y_predGRU = predict_class(model_biGRU, x_valid)\n",
        "print(confusion_matrix(y_valid, y_predGRU))"
      ],
      "execution_count": null,
      "outputs": [
        {
          "output_type": "stream",
          "text": [
            "[[  72   69]\n",
            " [  13 1091]]\n"
          ],
          "name": "stdout"
        }
      ]
    },
    {
      "cell_type": "code",
      "metadata": {
        "colab": {
          "base_uri": "https://localhost:8080/"
        },
        "id": "P7rI-t9uhBjn",
        "outputId": "76740ab6-38d4-4611-88d7-cdfcddbd051c"
      },
      "source": [
        "print(f1_score(y_valid, y_predGRU, average='micro'))"
      ],
      "execution_count": null,
      "outputs": [
        {
          "output_type": "stream",
          "text": [
            "0.934136546184739\n"
          ],
          "name": "stdout"
        }
      ]
    },
    {
      "cell_type": "code",
      "metadata": {
        "id": "vox0BvGEhF0x"
      },
      "source": [
        "make_submission(x_test_new.index, predict_class(model_biGRU, x_test), \"submission_GRU1.csv\")"
      ],
      "execution_count": null,
      "outputs": []
    },
    {
      "cell_type": "markdown",
      "metadata": {
        "id": "EwBckOi23cm5"
      },
      "source": [
        "Examining the effect of adding class weights in bi-directional GRU"
      ]
    },
    {
      "cell_type": "code",
      "metadata": {
        "colab": {
          "base_uri": "https://localhost:8080/"
        },
        "id": "4qv2Ebzwxrtb",
        "outputId": "39d61af9-1fe8-4ee2-fd37-d075c0dce273"
      },
      "source": [
        "model_biGRUtwo = tf.keras.Sequential([ # with class weight\n",
        "    tf.keras.layers.Embedding(len(tokenizer.word_index)+1, 256, input_length = max_len),\n",
        "    tf.keras.layers.Bidirectional(tf.keras.layers.GRU(128, dropout = 0.5, recurrent_dropout = 0.5, return_sequences=True)),\n",
        "    tf.keras.layers.SpatialDropout1D(0.5),\n",
        "    tf.keras.layers.Bidirectional(tf.keras.layers.GRU(128, dropout = 0.5, recurrent_dropout = 0.5)),\n",
        "    tf.keras.layers.Dense(128, activation='relu'),\n",
        "    tf.keras.layers.Dropout(0.5),\n",
        "    tf.keras.layers.Dense(1, activation='sigmoid')\n",
        "                        \n",
        "])\n",
        "\n",
        "model_biGRUtwo.compile(loss='binary_crossentropy', optimizer=Adam(clipnorm=4.), metrics=['accuracy'])\n",
        "model_biGRUtwo.summary()"
      ],
      "execution_count": null,
      "outputs": [
        {
          "output_type": "stream",
          "text": [
            "Model: \"sequential\"\n",
            "_________________________________________________________________\n",
            "Layer (type)                 Output Shape              Param #   \n",
            "=================================================================\n",
            "embedding (Embedding)        (None, 500, 256)          3764736   \n",
            "_________________________________________________________________\n",
            "bidirectional (Bidirectional (None, 500, 256)          296448    \n",
            "_________________________________________________________________\n",
            "spatial_dropout1d (SpatialDr (None, 500, 256)          0         \n",
            "_________________________________________________________________\n",
            "bidirectional_1 (Bidirection (None, 256)               296448    \n",
            "_________________________________________________________________\n",
            "dense (Dense)                (None, 128)               32896     \n",
            "_________________________________________________________________\n",
            "dropout (Dropout)            (None, 128)               0         \n",
            "_________________________________________________________________\n",
            "dense_1 (Dense)              (None, 1)                 129       \n",
            "=================================================================\n",
            "Total params: 4,390,657\n",
            "Trainable params: 4,390,657\n",
            "Non-trainable params: 0\n",
            "_________________________________________________________________\n"
          ],
          "name": "stdout"
        }
      ]
    },
    {
      "cell_type": "code",
      "metadata": {
        "colab": {
          "base_uri": "https://localhost:8080/"
        },
        "id": "7ziPHoSv269f",
        "outputId": "2df40727-99bb-4929-e19d-e8f62b117ed2"
      },
      "source": [
        "history_biGRUtwo = model_biGRUtwo.fit(x_train,\n",
        "                    y_train,\n",
        "                    epochs=20,\n",
        "                    batch_size=128,\n",
        "                    validation_data=(x_valid, y_valid),\n",
        "                    verbose=1,\n",
        "                    callbacks=[early_stopping],\n",
        "                    class_weight = class_weight_total)"
      ],
      "execution_count": null,
      "outputs": [
        {
          "output_type": "stream",
          "text": [
            "Epoch 1/20\n",
            "39/39 [==============================] - 619s 16s/step - loss: 0.6761 - accuracy: 0.5664 - val_loss: 0.4725 - val_accuracy: 0.7855\n",
            "Epoch 2/20\n",
            "39/39 [==============================] - 593s 15s/step - loss: 0.3222 - accuracy: 0.8454 - val_loss: 0.3198 - val_accuracy: 0.8618\n",
            "Epoch 3/20\n",
            "39/39 [==============================] - 593s 15s/step - loss: 0.1442 - accuracy: 0.9423 - val_loss: 0.2716 - val_accuracy: 0.9020\n",
            "Epoch 4/20\n",
            "39/39 [==============================] - 591s 15s/step - loss: 0.0925 - accuracy: 0.9720 - val_loss: 0.4413 - val_accuracy: 0.8707\n",
            "Epoch 5/20\n",
            "39/39 [==============================] - 591s 15s/step - loss: 0.0712 - accuracy: 0.9688 - val_loss: 0.3214 - val_accuracy: 0.9068\n",
            "Epoch 6/20\n",
            "39/39 [==============================] - 590s 15s/step - loss: 0.0354 - accuracy: 0.9873 - val_loss: 0.3260 - val_accuracy: 0.9052\n",
            "Epoch 7/20\n",
            "39/39 [==============================] - 589s 15s/step - loss: 0.0183 - accuracy: 0.9953 - val_loss: 0.5052 - val_accuracy: 0.8843\n",
            "Epoch 8/20\n",
            "39/39 [==============================] - 591s 15s/step - loss: 0.0267 - accuracy: 0.9903 - val_loss: 0.4733 - val_accuracy: 0.9020\n",
            "Restoring model weights from the end of the best epoch.\n",
            "Epoch 00008: early stopping\n"
          ],
          "name": "stdout"
        }
      ]
    },
    {
      "cell_type": "code",
      "metadata": {
        "colab": {
          "base_uri": "https://localhost:8080/"
        },
        "id": "XoTN0EFO_JLp",
        "outputId": "3832f304-e2af-48cd-8d5e-7d40f0c24049"
      },
      "source": [
        "model_biGRUtwo.evaluate(x_valid, y_valid)"
      ],
      "execution_count": null,
      "outputs": [
        {
          "output_type": "stream",
          "text": [
            "39/39 [==============================] - 22s 550ms/step - loss: 0.3214 - accuracy: 0.9068\n"
          ],
          "name": "stdout"
        },
        {
          "output_type": "execute_result",
          "data": {
            "text/plain": [
              "[0.3213655948638916, 0.9068273305892944]"
            ]
          },
          "metadata": {
            "tags": []
          },
          "execution_count": 17
        }
      ]
    },
    {
      "cell_type": "code",
      "metadata": {
        "colab": {
          "base_uri": "https://localhost:8080/"
        },
        "id": "ih2OAL5nRxYW",
        "outputId": "0923fff2-4e4e-43ec-d9fa-6e36013c6af7"
      },
      "source": [
        "print(get_cm(model_biGRUtwo, x_valid, y_valid))"
      ],
      "execution_count": null,
      "outputs": [
        {
          "output_type": "stream",
          "text": [
            "[[  98   48]\n",
            " [  68 1031]]\n"
          ],
          "name": "stdout"
        }
      ]
    },
    {
      "cell_type": "markdown",
      "metadata": {
        "id": "rGKuJcFyF9ZY"
      },
      "source": [
        "### LSTM Model:"
      ]
    },
    {
      "cell_type": "markdown",
      "metadata": {
        "id": "1PGUxNZQdWrt"
      },
      "source": [
        "##### One-Direction LSTM:"
      ]
    },
    {
      "cell_type": "code",
      "metadata": {
        "colab": {
          "base_uri": "https://localhost:8080/"
        },
        "id": "bKftsvf_dDCD",
        "outputId": "77e186e2-204a-4538-e55d-7b5e9d46fc65"
      },
      "source": [
        "model_oneLSTM = tf.keras.Sequential([ # one directional LSTM\n",
        "    tf.keras.layers.Embedding(len(tokenizer.word_index)+1, 200, input_length = max_len), # input dim: total token of words, output dim: 200, each has length max_len\n",
        "    tf.keras.layers.LSTM(128, dropout = 0.5, recurrent_dropout=0.5, return_sequences=False),\n",
        "    tf.keras.layers.Dense(128, activation = 'relu'), # Dense layer, has 128 units \n",
        "    tf.keras.layers.Dropout(0.5),\n",
        "    tf.keras.layers.Dense(1, activation = 'sigmoid')\n",
        "])\n",
        "\n",
        "model_oneLSTM.compile(\n",
        "    optimizer=Adam(clipnorm=4.),\n",
        "    loss='binary_crossentropy',\n",
        "    metrics=['accuracy'])\n",
        "model_oneLSTM.summary()"
      ],
      "execution_count": null,
      "outputs": [
        {
          "output_type": "stream",
          "text": [
            "WARNING:tensorflow:Layer lstm_1 will not use cuDNN kernel since it doesn't meet the cuDNN kernel criteria. It will use generic GPU kernel as fallback when running on GPU\n",
            "Model: \"sequential_6\"\n",
            "_________________________________________________________________\n",
            "Layer (type)                 Output Shape              Param #   \n",
            "=================================================================\n",
            "embedding_6 (Embedding)      (None, 256, 200)          2383600   \n",
            "_________________________________________________________________\n",
            "lstm_1 (LSTM)                (None, 128)               168448    \n",
            "_________________________________________________________________\n",
            "dense_12 (Dense)             (None, 128)               16512     \n",
            "_________________________________________________________________\n",
            "dropout_6 (Dropout)          (None, 128)               0         \n",
            "_________________________________________________________________\n",
            "dense_13 (Dense)             (None, 1)                 129       \n",
            "=================================================================\n",
            "Total params: 2,568,689\n",
            "Trainable params: 2,568,689\n",
            "Non-trainable params: 0\n",
            "_________________________________________________________________\n"
          ],
          "name": "stdout"
        }
      ]
    },
    {
      "cell_type": "code",
      "metadata": {
        "colab": {
          "base_uri": "https://localhost:8080/"
        },
        "id": "DXvaIXPFdUTo",
        "outputId": "69bbf558-9282-46e1-a496-c8ee8bf4296d"
      },
      "source": [
        "history_oneLSTM = model_oneLSTM.fit(x_train,\n",
        "                    y_train,\n",
        "                    epochs=15,\n",
        "                    batch_size=64,\n",
        "                    validation_data=(x_valid, y_valid),\n",
        "                    verbose=1,\n",
        "                    callbacks=[early_stopping])"
      ],
      "execution_count": null,
      "outputs": [
        {
          "output_type": "stream",
          "text": [
            "Epoch 1/15\n",
            "78/78 [==============================] - 57s 707ms/step - loss: 0.4439 - accuracy: 0.8624 - val_loss: 0.3943 - val_accuracy: 0.8675\n",
            "Epoch 2/15\n",
            "78/78 [==============================] - 55s 712ms/step - loss: 0.3662 - accuracy: 0.8843 - val_loss: 0.3974 - val_accuracy: 0.8675\n",
            "Epoch 3/15\n",
            "78/78 [==============================] - 55s 702ms/step - loss: 0.3913 - accuracy: 0.8713 - val_loss: 0.3974 - val_accuracy: 0.8675\n",
            "Epoch 4/15\n",
            "78/78 [==============================] - 54s 696ms/step - loss: 0.3610 - accuracy: 0.8835 - val_loss: 0.3899 - val_accuracy: 0.8683\n",
            "Epoch 5/15\n",
            "78/78 [==============================] - 54s 689ms/step - loss: 0.3600 - accuracy: 0.8848 - val_loss: 0.3971 - val_accuracy: 0.8675\n",
            "Epoch 6/15\n",
            "78/78 [==============================] - 54s 693ms/step - loss: 0.3800 - accuracy: 0.8776 - val_loss: 0.4005 - val_accuracy: 0.8643\n",
            "Epoch 7/15\n",
            "78/78 [==============================] - 54s 687ms/step - loss: 0.3610 - accuracy: 0.8850 - val_loss: 0.3983 - val_accuracy: 0.8643\n",
            "Restoring model weights from the end of the best epoch.\n",
            "Epoch 00007: early stopping\n"
          ],
          "name": "stdout"
        }
      ]
    },
    {
      "cell_type": "code",
      "metadata": {
        "colab": {
          "base_uri": "https://localhost:8080/"
        },
        "id": "OdF4bCKGgcMH",
        "outputId": "bfae1308-23b1-4729-f445-160c11370f35"
      },
      "source": [
        "model_oneLSTM.evaluate(x_valid, y_valid)"
      ],
      "execution_count": null,
      "outputs": [
        {
          "output_type": "stream",
          "text": [
            "39/39 [==============================] - 2s 50ms/step - loss: 0.3899 - accuracy: 0.8683\n"
          ],
          "name": "stdout"
        },
        {
          "output_type": "execute_result",
          "data": {
            "text/plain": [
              "[0.38985881209373474, 0.8682730793952942]"
            ]
          },
          "metadata": {
            "tags": []
          },
          "execution_count": 61
        }
      ]
    },
    {
      "cell_type": "code",
      "metadata": {
        "colab": {
          "base_uri": "https://localhost:8080/"
        },
        "id": "ZbmgAdWugjpx",
        "outputId": "b6e94043-f5e8-4c1a-9f96-8af29054a7b0"
      },
      "source": [
        "print(get_cm(model_oneLSTM, x_valid, y_valid)) # very bad performance, does not catch the pattern for negative sentence"
      ],
      "execution_count": null,
      "outputs": [
        {
          "output_type": "stream",
          "text": [
            "[[   1  164]\n",
            " [   0 1080]]\n"
          ],
          "name": "stdout"
        }
      ]
    },
    {
      "cell_type": "markdown",
      "metadata": {
        "id": "8ddV7lDHTGE0"
      },
      "source": [
        "##### Bi-Directiona; LSTM:"
      ]
    },
    {
      "cell_type": "markdown",
      "metadata": {
        "id": "pwRpqGqK99IQ"
      },
      "source": [
        "###### One layer Bi-Directional LSTM:"
      ]
    },
    {
      "cell_type": "code",
      "metadata": {
        "colab": {
          "base_uri": "https://localhost:8080/"
        },
        "id": "Ta_ktkz4TrT_",
        "outputId": "30caca14-8583-47e0-ed07-810316a526f6"
      },
      "source": [
        "model_LSTM = tf.keras.Sequential([ # bi-directional LSTM\n",
        "    tf.keras.layers.Embedding(len(tokenizer.word_index)+1, 200, input_length = max_len),\n",
        "    tf.keras.layers.Bidirectional(tf.keras.layers.LSTM(128, dropout = 0.5, recurrent_dropout=0.5, return_sequences=False)), # \n",
        "    tf.keras.layers.Dense(128, activation = 'relu'),\n",
        "    tf.keras.layers.Dropout(0.5),\n",
        "    tf.keras.layers.Dense(1, activation = 'sigmoid')\n",
        "])\n",
        "\n",
        "model_LSTM.compile(\n",
        "    optimizer=Adam(clipnorm=4.),\n",
        "    loss='binary_crossentropy',\n",
        "    metrics=['accuracy'])\n",
        "model_LSTM.summary()"
      ],
      "execution_count": null,
      "outputs": [
        {
          "output_type": "stream",
          "text": [
            "WARNING:tensorflow:Layer lstm will not use cuDNN kernel since it doesn't meet the cuDNN kernel criteria. It will use generic GPU kernel as fallback when running on GPU\n",
            "WARNING:tensorflow:Layer lstm will not use cuDNN kernel since it doesn't meet the cuDNN kernel criteria. It will use generic GPU kernel as fallback when running on GPU\n",
            "WARNING:tensorflow:Layer lstm will not use cuDNN kernel since it doesn't meet the cuDNN kernel criteria. It will use generic GPU kernel as fallback when running on GPU\n",
            "Model: \"sequential_5\"\n",
            "_________________________________________________________________\n",
            "Layer (type)                 Output Shape              Param #   \n",
            "=================================================================\n",
            "embedding_5 (Embedding)      (None, 256, 200)          2383600   \n",
            "_________________________________________________________________\n",
            "bidirectional_6 (Bidirection (None, 256)               336896    \n",
            "_________________________________________________________________\n",
            "dense_10 (Dense)             (None, 128)               32896     \n",
            "_________________________________________________________________\n",
            "dropout_5 (Dropout)          (None, 128)               0         \n",
            "_________________________________________________________________\n",
            "dense_11 (Dense)             (None, 1)                 129       \n",
            "=================================================================\n",
            "Total params: 2,753,521\n",
            "Trainable params: 2,753,521\n",
            "Non-trainable params: 0\n",
            "_________________________________________________________________\n"
          ],
          "name": "stdout"
        }
      ]
    },
    {
      "cell_type": "code",
      "metadata": {
        "colab": {
          "base_uri": "https://localhost:8080/"
        },
        "id": "nt7gtn0iUeaL",
        "outputId": "43da4a46-9485-4842-e22a-b968a9b8df0c"
      },
      "source": [
        "history_LSTM = model_LSTM.fit(x_train,\n",
        "                    y_train,\n",
        "                    epochs=15,\n",
        "                    batch_size=64,\n",
        "                    validation_data=(x_valid, y_valid),\n",
        "                    verbose=1,\n",
        "                    callbacks=[early_stopping])"
      ],
      "execution_count": null,
      "outputs": [
        {
          "output_type": "stream",
          "text": [
            "Epoch 1/15\n",
            "78/78 [==============================] - 111s 1s/step - loss: 0.4425 - accuracy: 0.8594 - val_loss: 0.2431 - val_accuracy: 0.9044\n",
            "Epoch 2/15\n",
            "78/78 [==============================] - 105s 1s/step - loss: 0.1850 - accuracy: 0.9247 - val_loss: 0.2174 - val_accuracy: 0.9237\n",
            "Epoch 3/15\n",
            "78/78 [==============================] - 105s 1s/step - loss: 0.0849 - accuracy: 0.9708 - val_loss: 0.2478 - val_accuracy: 0.9213\n",
            "Epoch 4/15\n",
            "78/78 [==============================] - 105s 1s/step - loss: 0.0596 - accuracy: 0.9783 - val_loss: 0.2616 - val_accuracy: 0.9221\n",
            "Epoch 5/15\n",
            "78/78 [==============================] - 104s 1s/step - loss: 0.0277 - accuracy: 0.9930 - val_loss: 0.3380 - val_accuracy: 0.9165\n",
            "Restoring model weights from the end of the best epoch.\n",
            "Epoch 00005: early stopping\n"
          ],
          "name": "stdout"
        }
      ]
    },
    {
      "cell_type": "code",
      "metadata": {
        "colab": {
          "base_uri": "https://localhost:8080/"
        },
        "id": "GrWoP1NiaaPL",
        "outputId": "946e9535-fb83-4ddf-87da-3b7b6eadc625"
      },
      "source": [
        "model_LSTM.evaluate(x_valid, y_valid)"
      ],
      "execution_count": null,
      "outputs": [
        {
          "output_type": "stream",
          "text": [
            "39/39 [==============================] - 4s 92ms/step - loss: 0.2174 - accuracy: 0.9237\n"
          ],
          "name": "stdout"
        },
        {
          "output_type": "execute_result",
          "data": {
            "text/plain": [
              "[0.2174045294523239, 0.9236947894096375]"
            ]
          },
          "metadata": {
            "tags": []
          },
          "execution_count": 56
        }
      ]
    },
    {
      "cell_type": "code",
      "metadata": {
        "colab": {
          "base_uri": "https://localhost:8080/"
        },
        "id": "wCEUW_TZcFC9",
        "outputId": "4fae9391-a45c-446d-dc98-d10a736e7140"
      },
      "source": [
        "print(get_cm(model_LSTM, x_valid, y_valid))"
      ],
      "execution_count": null,
      "outputs": [
        {
          "output_type": "stream",
          "text": [
            "[[  84   81]\n",
            " [  14 1066]]\n"
          ],
          "name": "stdout"
        }
      ]
    },
    {
      "cell_type": "code",
      "metadata": {
        "id": "d27pp2eQcOau"
      },
      "source": [
        "make_submission(x_test_new.index, predict_class(model_LSTM, x_test), \"submission_oneLSTMcw.csv\")"
      ],
      "execution_count": null,
      "outputs": []
    },
    {
      "cell_type": "markdown",
      "metadata": {
        "id": "NJA6yQIz-HpM"
      },
      "source": [
        "###### Two-layer Bi-Directional LSTM:"
      ]
    },
    {
      "cell_type": "code",
      "metadata": {
        "colab": {
          "base_uri": "https://localhost:8080/"
        },
        "id": "-HHsabeIGBHq",
        "outputId": "4287761b-0454-40f9-affd-cb7fc4ad0811"
      },
      "source": [
        "model_biLSTM = tf.keras.Sequential([ \n",
        "    tf.keras.layers.Embedding(vocab_size, 200, input_length = max_len), # input length is 10000 instead of length of tokens\n",
        "    tf.keras.layers.Bidirectional(tf.keras.layers.LSTM(128, dropout = 0.8, recurrent_dropout=0.8, return_sequences=True)), # add dropout parameter to prevent overfitting in both direction\n",
        "    tf.keras.layers.Bidirectional(tf.keras.layers.LSTM(64, dropout = 0.5, recurrent_dropout=0.5, return_sequences=False)), # \n",
        "    tf.keras.layers.Dense(128, activation = 'relu'), # Dense layer, 128 units\n",
        "    tf.keras.layers.Dropout(0.5),\n",
        "    tf.keras.layers.Dense(1, activation = 'sigmoid')\n",
        "])\n",
        "\n",
        "model_biLSTM.compile(\n",
        "    optimizer=Adam(clipnorm=4.),\n",
        "    loss='binary_crossentropy',\n",
        "    metrics=['accuracy'])\n",
        "\n",
        "model_biLSTM.summary()"
      ],
      "execution_count": null,
      "outputs": [
        {
          "output_type": "stream",
          "text": [
            "WARNING:tensorflow:Layer lstm will not use cuDNN kernel since it doesn't meet the cuDNN kernel criteria. It will use generic GPU kernel as fallback when running on GPU\n",
            "WARNING:tensorflow:Layer lstm will not use cuDNN kernel since it doesn't meet the cuDNN kernel criteria. It will use generic GPU kernel as fallback when running on GPU\n",
            "WARNING:tensorflow:Layer lstm will not use cuDNN kernel since it doesn't meet the cuDNN kernel criteria. It will use generic GPU kernel as fallback when running on GPU\n",
            "WARNING:tensorflow:Layer lstm_1 will not use cuDNN kernel since it doesn't meet the cuDNN kernel criteria. It will use generic GPU kernel as fallback when running on GPU\n",
            "WARNING:tensorflow:Layer lstm_1 will not use cuDNN kernel since it doesn't meet the cuDNN kernel criteria. It will use generic GPU kernel as fallback when running on GPU\n",
            "WARNING:tensorflow:Layer lstm_1 will not use cuDNN kernel since it doesn't meet the cuDNN kernel criteria. It will use generic GPU kernel as fallback when running on GPU\n",
            "Model: \"sequential\"\n",
            "_________________________________________________________________\n",
            "Layer (type)                 Output Shape              Param #   \n",
            "=================================================================\n",
            "embedding_2 (Embedding)      (None, 256, 200)          2000000   \n",
            "_________________________________________________________________\n",
            "bidirectional (Bidirectional (None, 256, 256)          336896    \n",
            "_________________________________________________________________\n",
            "bidirectional_1 (Bidirection (None, 128)               164352    \n",
            "_________________________________________________________________\n",
            "dense_2 (Dense)              (None, 128)               16512     \n",
            "_________________________________________________________________\n",
            "dropout (Dropout)            (None, 128)               0         \n",
            "_________________________________________________________________\n",
            "dense_3 (Dense)              (None, 1)                 129       \n",
            "=================================================================\n",
            "Total params: 2,517,889\n",
            "Trainable params: 2,517,889\n",
            "Non-trainable params: 0\n",
            "_________________________________________________________________\n"
          ],
          "name": "stdout"
        }
      ]
    },
    {
      "cell_type": "code",
      "metadata": {
        "colab": {
          "base_uri": "https://localhost:8080/"
        },
        "id": "_Dt17p4xIX1W",
        "outputId": "ed79f4f1-b639-4dff-fbfe-00d7d0a0a7c6"
      },
      "source": [
        "history_biLSTM = model_biLSTM.fit(x_train,\n",
        "                    y_train,\n",
        "                    epochs=5,\n",
        "                    batch_size=64,\n",
        "                    validation_data=(x_valid, y_valid),\n",
        "                    verbose=1)"
      ],
      "execution_count": null,
      "outputs": [
        {
          "output_type": "stream",
          "text": [
            "Epoch 1/5\n",
            "78/78 [==============================] - 204s 3s/step - loss: 0.4532 - accuracy: 0.8423 - val_loss: 0.2256 - val_accuracy: 0.9052\n",
            "Epoch 2/5\n",
            "78/78 [==============================] - 196s 3s/step - loss: 0.2163 - accuracy: 0.9077 - val_loss: 0.1925 - val_accuracy: 0.9237\n",
            "Epoch 3/5\n",
            "78/78 [==============================] - 196s 3s/step - loss: 0.1341 - accuracy: 0.9479 - val_loss: 0.1884 - val_accuracy: 0.9261\n",
            "Epoch 4/5\n",
            "78/78 [==============================] - 196s 3s/step - loss: 0.1098 - accuracy: 0.9619 - val_loss: 0.1977 - val_accuracy: 0.9406\n",
            "Epoch 5/5\n",
            "78/78 [==============================] - 196s 3s/step - loss: 0.0702 - accuracy: 0.9767 - val_loss: 0.1964 - val_accuracy: 0.9301\n"
          ],
          "name": "stdout"
        }
      ]
    },
    {
      "cell_type": "code",
      "metadata": {
        "colab": {
          "base_uri": "https://localhost:8080/",
          "height": 283
        },
        "id": "Y75JpO0BQFQx",
        "outputId": "4ab91040-c038-428b-c0b9-71f396643762"
      },
      "source": [
        "plot_result(history_biLSTM) # seems a good model, plot the result"
      ],
      "execution_count": null,
      "outputs": [
        {
          "output_type": "display_data",
          "data": {
            "image/png": "[encoded data removed]",
            "text/plain": [
              "<Figure size 432x288 with 1 Axes>"
            ]
          },
          "metadata": {
            "tags": [],
            "needs_background": "light"
          }
        }
      ]
    },
    {
      "cell_type": "code",
      "metadata": {
        "colab": {
          "base_uri": "https://localhost:8080/"
        },
        "id": "CrKzgUG3NMpH",
        "outputId": "ff7b86c4-6d79-4a63-941f-291d934a2dd2"
      },
      "source": [
        "model_biLSTM.evaluate(x_valid, y_valid) # evaluate on the validation dataset"
      ],
      "execution_count": null,
      "outputs": [
        {
          "output_type": "stream",
          "text": [
            "39/39 [==============================] - 7s 169ms/step - loss: 0.1964 - accuracy: 0.9301\n"
          ],
          "name": "stdout"
        },
        {
          "output_type": "execute_result",
          "data": {
            "text/plain": [
              "[0.19640807807445526, 0.9301204681396484]"
            ]
          },
          "metadata": {
            "tags": []
          },
          "execution_count": 89
        }
      ]
    },
    {
      "cell_type": "code",
      "metadata": {
        "colab": {
          "base_uri": "https://localhost:8080/"
        },
        "id": "NRF1bUJiNVYt",
        "outputId": "4ac763e1-2057-4d6c-9ac4-fd6bd342965d"
      },
      "source": [
        "y_predLSTM = predict_class(model_biLSTM, x_valid)\n",
        "print(confusion_matrix(y_valid, y_predLSTM))"
      ],
      "execution_count": null,
      "outputs": [
        {
          "output_type": "stream",
          "text": [
            "[[  89   52]\n",
            " [  35 1069]]\n"
          ],
          "name": "stdout"
        }
      ]
    },
    {
      "cell_type": "code",
      "metadata": {
        "colab": {
          "base_uri": "https://localhost:8080/"
        },
        "id": "U9dyQ6R1Oyqc",
        "outputId": "9a41dce0-3a55-4ae0-e52e-39c499f9ba19"
      },
      "source": [
        "print(f1_score(y_valid, y_predLSTM, average='micro'))"
      ],
      "execution_count": null,
      "outputs": [
        {
          "output_type": "stream",
          "text": [
            "0.9301204819277109\n"
          ],
          "name": "stdout"
        }
      ]
    },
    {
      "cell_type": "code",
      "metadata": {
        "id": "IFfj-YEFPnDe"
      },
      "source": [
        "make_submission(x_test_new.index, predict_class(model_biLSTM, x_test), \"submission_LSTM1.csv\")"
      ],
      "execution_count": null,
      "outputs": []
    },
    {
      "cell_type": "markdown",
      "metadata": {
        "id": "Y1H4jfJNEM8h"
      },
      "source": [
        "Now change input dim to the length of tokens, comparing the performance:"
      ]
    },
    {
      "cell_type": "code",
      "metadata": {
        "colab": {
          "base_uri": "https://localhost:8080/"
        },
        "id": "nvBF2jBMsHjj",
        "outputId": "d6c52144-f6f2-4519-e01d-760f92f375de"
      },
      "source": [
        "model_biLSTM2 = tf.keras.Sequential([ # input dim = tokenizer + 1, output dim = 300, maxlen = 500\n",
        "    tf.keras.layers.Embedding(len(tokenizer.word_index)+1, 300, input_length = max_len),\n",
        "    tf.keras.layers.Bidirectional(tf.keras.layers.LSTM(128, dropout = 0.8, recurrent_dropout=0.8, return_sequences=True)), # same as previous one\n",
        "    tf.keras.layers.Bidirectional(tf.keras.layers.LSTM(64, dropout = 0.5, recurrent_dropout=0.5, return_sequences=False)), # \n",
        "    tf.keras.layers.Dense(128, activation = 'relu'),\n",
        "    tf.keras.layers.Dropout(0.5),\n",
        "    tf.keras.layers.Dense(1, activation = 'sigmoid')\n",
        "])\n",
        "\n",
        "model_biLSTM2.compile(\n",
        "    optimizer=Adam(clipnorm=4.),\n",
        "    loss='binary_crossentropy',\n",
        "    metrics=['accuracy'])\n",
        "\n",
        "model_biLSTM2.summary()"
      ],
      "execution_count": null,
      "outputs": [
        {
          "output_type": "stream",
          "text": [
            "Model: \"sequential\"\n",
            "_________________________________________________________________\n",
            "Layer (type)                 Output Shape              Param #   \n",
            "=================================================================\n",
            "embedding (Embedding)        (None, 500, 300)          4411800   \n",
            "_________________________________________________________________\n",
            "bidirectional (Bidirectional (None, 500, 256)          439296    \n",
            "_________________________________________________________________\n",
            "bidirectional_1 (Bidirection (None, 128)               164352    \n",
            "_________________________________________________________________\n",
            "dense (Dense)                (None, 128)               16512     \n",
            "_________________________________________________________________\n",
            "dropout (Dropout)            (None, 128)               0         \n",
            "_________________________________________________________________\n",
            "dense_1 (Dense)              (None, 1)                 129       \n",
            "=================================================================\n",
            "Total params: 5,032,089\n",
            "Trainable params: 5,032,089\n",
            "Non-trainable params: 0\n",
            "_________________________________________________________________\n"
          ],
          "name": "stdout"
        }
      ]
    },
    {
      "cell_type": "code",
      "metadata": {
        "colab": {
          "base_uri": "https://localhost:8080/"
        },
        "id": "3UatNadTwLhL",
        "outputId": "825e4c9c-4da9-4943-89ea-1d6f79e150b8"
      },
      "source": [
        "history_biLSTM2 = model_biLSTM2.fit(x_train,\n",
        "                    y_train,\n",
        "                    epochs=10,\n",
        "                    batch_size=64,\n",
        "                    validation_data=(x_valid, y_valid),\n",
        "                    verbose=1)"
      ],
      "execution_count": null,
      "outputs": [
        {
          "output_type": "stream",
          "text": [
            "Epoch 1/10\n",
            "78/78 [==============================] - 414s 5s/step - loss: 0.4374 - accuracy: 0.8627 - val_loss: 0.2302 - val_accuracy: 0.9036\n",
            "Epoch 2/10\n",
            "78/78 [==============================] - 401s 5s/step - loss: 0.1914 - accuracy: 0.9249 - val_loss: 0.1970 - val_accuracy: 0.9237\n",
            "Epoch 3/10\n",
            "78/78 [==============================] - 400s 5s/step - loss: 0.1293 - accuracy: 0.9538 - val_loss: 0.2107 - val_accuracy: 0.9221\n",
            "Epoch 4/10\n",
            "78/78 [==============================] - 395s 5s/step - loss: 0.0791 - accuracy: 0.9745 - val_loss: 0.2011 - val_accuracy: 0.9237\n",
            "Epoch 5/10\n",
            "78/78 [==============================] - 392s 5s/step - loss: 0.0580 - accuracy: 0.9777 - val_loss: 0.2346 - val_accuracy: 0.9149\n",
            "Epoch 6/10\n",
            "78/78 [==============================] - 393s 5s/step - loss: 0.0407 - accuracy: 0.9833 - val_loss: 0.3304 - val_accuracy: 0.9197\n",
            "Epoch 7/10\n",
            "78/78 [==============================] - 394s 5s/step - loss: 0.0340 - accuracy: 0.9888 - val_loss: 0.4281 - val_accuracy: 0.9157\n",
            "Epoch 8/10\n",
            "78/78 [==============================] - 395s 5s/step - loss: 0.0342 - accuracy: 0.9868 - val_loss: 0.3772 - val_accuracy: 0.9221\n",
            "Epoch 9/10\n",
            "78/78 [==============================] - 396s 5s/step - loss: 0.0275 - accuracy: 0.9902 - val_loss: 0.3510 - val_accuracy: 0.9253\n",
            "Epoch 10/10\n",
            "78/78 [==============================] - 396s 5s/step - loss: 0.0194 - accuracy: 0.9938 - val_loss: 0.4389 - val_accuracy: 0.9213\n"
          ],
          "name": "stdout"
        }
      ]
    },
    {
      "cell_type": "markdown",
      "metadata": {
        "id": "dDHlBAZmEl6B"
      },
      "source": [
        "The performance does not has conspicuous different two models."
      ]
    },
    {
      "cell_type": "code",
      "metadata": {
        "colab": {
          "base_uri": "https://localhost:8080/"
        },
        "id": "eg62qNLRAHZK",
        "outputId": "e628c13f-8ae1-4256-a3de-0ad413cdb8fe"
      },
      "source": [
        "model_biLSTM2.evaluate(x_valid, y_valid)"
      ],
      "execution_count": null,
      "outputs": [
        {
          "output_type": "stream",
          "text": [
            "39/39 [==============================] - 13s 330ms/step - loss: 0.4389 - accuracy: 0.9213\n"
          ],
          "name": "stdout"
        },
        {
          "output_type": "execute_result",
          "data": {
            "text/plain": [
              "[0.4388575255870819, 0.9212851524353027]"
            ]
          },
          "metadata": {
            "tags": []
          },
          "execution_count": 22
        }
      ]
    },
    {
      "cell_type": "code",
      "metadata": {
        "colab": {
          "base_uri": "https://localhost:8080/"
        },
        "id": "VN-q01MeAQ34",
        "outputId": "d0d70659-5255-4249-f21c-4d026a682259"
      },
      "source": [
        "print(get_cm(model_biLSTM2, x_valid, y_valid))"
      ],
      "execution_count": null,
      "outputs": [
        {
          "output_type": "stream",
          "text": [
            "[[  77   69]\n",
            " [  29 1070]]\n"
          ],
          "name": "stdout"
        }
      ]
    },
    {
      "cell_type": "code",
      "metadata": {
        "id": "sD0cYoMnAjve"
      },
      "source": [
        "make_submission(x_test_new.index, predict_class(model_biLSTM2, x_test), \"submission_LSTM_2.csv\")"
      ],
      "execution_count": null,
      "outputs": []
    },
    {
      "cell_type": "markdown",
      "metadata": {
        "id": "W1lYzd11qY0S"
      },
      "source": [
        "###### 3rd"
      ]
    },
    {
      "cell_type": "code",
      "metadata": {
        "colab": {
          "base_uri": "https://localhost:8080/"
        },
        "id": "zCpUvqquBT6w",
        "outputId": "84831a4a-2753-4ce5-939d-54d9dc53c5b0"
      },
      "source": [
        "model_biLSTM3 = tf.keras.Sequential([ # input dim = 10000, output dim = 300, maxlen = 500\n",
        "    tf.keras.layers.Embedding(vocab_size, 300, input_length = max_len),\n",
        "    tf.keras.layers.Bidirectional(tf.keras.layers.LSTM(128, dropout = 0.8, recurrent_dropout=0.8, return_sequences=True)), # \n",
        "    tf.keras.layers.Bidirectional(tf.keras.layers.LSTM(128, dropout = 0.5, recurrent_dropout=0.5, return_sequences=False)), # \n",
        "    tf.keras.layers.Dense(128, activation = 'relu'),\n",
        "    tf.keras.layers.Dropout(0.5),\n",
        "    tf.keras.layers.Dense(1, activation = 'sigmoid')\n",
        "])\n",
        "\n",
        "model_biLSTM3.compile(\n",
        "    optimizer=Adam(clipnorm=4.),\n",
        "    loss='binary_crossentropy',\n",
        "    metrics=['accuracy'])\n",
        "\n",
        "model_biLSTM3.summary()"
      ],
      "execution_count": null,
      "outputs": [
        {
          "output_type": "stream",
          "text": [
            "Model: \"sequential_1\"\n",
            "_________________________________________________________________\n",
            "Layer (type)                 Output Shape              Param #   \n",
            "=================================================================\n",
            "embedding_1 (Embedding)      (None, 500, 300)          3000000   \n",
            "_________________________________________________________________\n",
            "bidirectional_2 (Bidirection (None, 500, 256)          439296    \n",
            "_________________________________________________________________\n",
            "bidirectional_3 (Bidirection (None, 256)               394240    \n",
            "_________________________________________________________________\n",
            "dense_2 (Dense)              (None, 128)               32896     \n",
            "_________________________________________________________________\n",
            "dropout_1 (Dropout)          (None, 128)               0         \n",
            "_________________________________________________________________\n",
            "dense_3 (Dense)              (None, 1)                 129       \n",
            "=================================================================\n",
            "Total params: 3,866,561\n",
            "Trainable params: 3,866,561\n",
            "Non-trainable params: 0\n",
            "_________________________________________________________________\n"
          ],
          "name": "stdout"
        }
      ]
    },
    {
      "cell_type": "code",
      "metadata": {
        "colab": {
          "base_uri": "https://localhost:8080/"
        },
        "id": "iWOxxm6gBd7S",
        "outputId": "0b344b02-4be5-4f02-e75a-a8573e6871d9"
      },
      "source": [
        "history_biLSTM3 = model_biLSTM3.fit(x_train,\n",
        "                    y_train,\n",
        "                    epochs=10,\n",
        "                    batch_size=64,\n",
        "                    validation_data=(x_valid, y_valid),\n",
        "                    verbose=1,\n",
        "                    callbacks=[early_stopping])"
      ],
      "execution_count": null,
      "outputs": [
        {
          "output_type": "stream",
          "text": [
            "Epoch 1/10\n",
            "78/78 [==============================] - 846s 11s/step - loss: 0.4357 - accuracy: 0.8421 - val_loss: 0.2369 - val_accuracy: 0.8972\n",
            "Epoch 2/10\n",
            "78/78 [==============================] - 830s 11s/step - loss: 0.1999 - accuracy: 0.9187 - val_loss: 0.2156 - val_accuracy: 0.9076\n",
            "Epoch 3/10\n",
            "78/78 [==============================] - 831s 11s/step - loss: 0.1389 - accuracy: 0.9551 - val_loss: 0.2340 - val_accuracy: 0.9229\n",
            "Epoch 4/10\n",
            "78/78 [==============================] - 833s 11s/step - loss: 0.0766 - accuracy: 0.9722 - val_loss: 0.2372 - val_accuracy: 0.9277\n",
            "Epoch 5/10\n",
            "78/78 [==============================] - 826s 11s/step - loss: 0.0613 - accuracy: 0.9802 - val_loss: 0.2567 - val_accuracy: 0.9301\n",
            "Epoch 6/10\n",
            "78/78 [==============================] - 833s 11s/step - loss: 0.0387 - accuracy: 0.9861 - val_loss: 0.2762 - val_accuracy: 0.9237\n",
            "Epoch 7/10\n",
            "78/78 [==============================] - 826s 11s/step - loss: 0.0285 - accuracy: 0.9888 - val_loss: 0.2868 - val_accuracy: 0.9357\n",
            "Epoch 8/10\n",
            "78/78 [==============================] - 826s 11s/step - loss: 0.0118 - accuracy: 0.9961 - val_loss: 0.3479 - val_accuracy: 0.9317\n",
            "Epoch 9/10\n",
            "78/78 [==============================] - 824s 11s/step - loss: 0.0186 - accuracy: 0.9941 - val_loss: 0.4418 - val_accuracy: 0.9325\n",
            "Epoch 10/10\n",
            "78/78 [==============================] - 814s 10s/step - loss: 0.0235 - accuracy: 0.9919 - val_loss: 0.4467 - val_accuracy: 0.9325\n",
            "Restoring model weights from the end of the best epoch.\n",
            "Epoch 00010: early stopping\n"
          ],
          "name": "stdout"
        }
      ]
    },
    {
      "cell_type": "code",
      "metadata": {
        "colab": {
          "base_uri": "https://localhost:8080/"
        },
        "id": "_Zz5bjtoURPK",
        "outputId": "da909dc5-afd2-4188-f196-c44e12134a65"
      },
      "source": [
        "model_biLSTM3.evaluate(x_valid, y_valid)"
      ],
      "execution_count": null,
      "outputs": [
        {
          "output_type": "stream",
          "text": [
            "39/39 [==============================] - 31s 796ms/step - loss: 0.2868 - accuracy: 0.9357\n"
          ],
          "name": "stdout"
        },
        {
          "output_type": "execute_result",
          "data": {
            "text/plain": [
              "[0.28678447008132935, 0.935742974281311]"
            ]
          },
          "metadata": {
            "tags": []
          },
          "execution_count": 28
        }
      ]
    },
    {
      "cell_type": "code",
      "metadata": {
        "colab": {
          "base_uri": "https://localhost:8080/"
        },
        "id": "sAzvsU4vRfQM",
        "outputId": "8368f31b-d62d-4e57-8c39-2221bb1fc9ba"
      },
      "source": [
        "print(get_cm(model_biLSTM3, x_valid, y_valid))"
      ],
      "execution_count": null,
      "outputs": [
        {
          "output_type": "stream",
          "text": [
            "[[  98   48]\n",
            " [  32 1067]]\n"
          ],
          "name": "stdout"
        }
      ]
    },
    {
      "cell_type": "code",
      "metadata": {
        "id": "EnuFvP2AR4mQ"
      },
      "source": [
        "make_submission(x_test_df.index, predict_class(model_biLSTM3, x_test), \"submission_LSTM_3.csv\")"
      ],
      "execution_count": null,
      "outputs": []
    },
    {
      "cell_type": "markdown",
      "metadata": {
        "id": "18FFtd7GqgB3"
      },
      "source": [
        "###### 4th"
      ]
    },
    {
      "cell_type": "code",
      "metadata": {
        "colab": {
          "base_uri": "https://localhost:8080/"
        },
        "id": "ifAMI5YFqiLE",
        "outputId": "ef0ffc8f-caf4-4070-ae5b-2dd169fa6c37"
      },
      "source": [
        "model_biLSTM4 = tf.keras.Sequential([ # input dim = tokenizer + 1, output dim = 300, maxlen = 500, original dataset\n",
        "    tf.keras.layers.Embedding(len(tokenizer.word_index)+1, 300, input_length = max_len),\n",
        "    tf.keras.layers.Bidirectional(tf.keras.layers.LSTM(128, dropout = 0.8, recurrent_dropout=0.8, return_sequences=True)), # \n",
        "    tf.keras.layers.Bidirectional(tf.keras.layers.LSTM(128, dropout = 0.5, recurrent_dropout=0.5, return_sequences=False)), # \n",
        "    tf.keras.layers.Dense(128, activation = 'relu'),\n",
        "    tf.keras.layers.Dropout(0.5),\n",
        "    tf.keras.layers.Dense(1, activation = 'sigmoid')\n",
        "])\n",
        "\n",
        "model_biLSTM4.compile(\n",
        "    optimizer=Adam(clipnorm=4.),\n",
        "    loss='binary_crossentropy',\n",
        "    metrics=['accuracy'])\n",
        "\n",
        "model_biLSTM4.summary()"
      ],
      "execution_count": null,
      "outputs": [
        {
          "output_type": "stream",
          "text": [
            "WARNING:tensorflow:Layer lstm will not use cuDNN kernel since it doesn't meet the cuDNN kernel criteria. It will use generic GPU kernel as fallback when running on GPU\n",
            "WARNING:tensorflow:Layer lstm will not use cuDNN kernel since it doesn't meet the cuDNN kernel criteria. It will use generic GPU kernel as fallback when running on GPU\n",
            "WARNING:tensorflow:Layer lstm will not use cuDNN kernel since it doesn't meet the cuDNN kernel criteria. It will use generic GPU kernel as fallback when running on GPU\n",
            "WARNING:tensorflow:Layer lstm_1 will not use cuDNN kernel since it doesn't meet the cuDNN kernel criteria. It will use generic GPU kernel as fallback when running on GPU\n",
            "WARNING:tensorflow:Layer lstm_1 will not use cuDNN kernel since it doesn't meet the cuDNN kernel criteria. It will use generic GPU kernel as fallback when running on GPU\n",
            "WARNING:tensorflow:Layer lstm_1 will not use cuDNN kernel since it doesn't meet the cuDNN kernel criteria. It will use generic GPU kernel as fallback when running on GPU\n",
            "Model: \"sequential\"\n",
            "_________________________________________________________________\n",
            "Layer (type)                 Output Shape              Param #   \n",
            "=================================================================\n",
            "embedding (Embedding)        (None, 500, 300)          4411800   \n",
            "_________________________________________________________________\n",
            "bidirectional (Bidirectional (None, 500, 256)          439296    \n",
            "_________________________________________________________________\n",
            "bidirectional_1 (Bidirection (None, 256)               394240    \n",
            "_________________________________________________________________\n",
            "dense (Dense)                (None, 128)               32896     \n",
            "_________________________________________________________________\n",
            "dropout (Dropout)            (None, 128)               0         \n",
            "_________________________________________________________________\n",
            "dense_1 (Dense)              (None, 1)                 129       \n",
            "=================================================================\n",
            "Total params: 5,278,361\n",
            "Trainable params: 5,278,361\n",
            "Non-trainable params: 0\n",
            "_________________________________________________________________\n"
          ],
          "name": "stdout"
        }
      ]
    },
    {
      "cell_type": "code",
      "metadata": {
        "colab": {
          "base_uri": "https://localhost:8080/"
        },
        "id": "QWWA4gGhq49N",
        "outputId": "fa0836c5-a816-4b7a-ec5c-1c655af53f7d"
      },
      "source": [
        "history_biLSTM4 = model_biLSTM4.fit(x_train,\n",
        "                    y_train,\n",
        "                    epochs=10,\n",
        "                    batch_size=64,\n",
        "                    validation_data=(x_valid, y_valid),\n",
        "                    verbose=1,\n",
        "                    callbacks=[early_stopping])"
      ],
      "execution_count": null,
      "outputs": [
        {
          "output_type": "stream",
          "text": [
            "Epoch 1/10\n",
            "78/78 [==============================] - 401s 5s/step - loss: 0.4306 - accuracy: 0.8654 - val_loss: 0.2359 - val_accuracy: 0.8996\n",
            "Epoch 2/10\n",
            "78/78 [==============================] - 392s 5s/step - loss: 0.1917 - accuracy: 0.9252 - val_loss: 0.1943 - val_accuracy: 0.9237\n",
            "Epoch 3/10\n",
            "78/78 [==============================] - 391s 5s/step - loss: 0.1211 - accuracy: 0.9535 - val_loss: 0.2974 - val_accuracy: 0.9124\n",
            "Epoch 4/10\n",
            "78/78 [==============================] - 393s 5s/step - loss: 0.0756 - accuracy: 0.9708 - val_loss: 0.2137 - val_accuracy: 0.9301\n",
            "Epoch 5/10\n",
            "78/78 [==============================] - 391s 5s/step - loss: 0.0389 - accuracy: 0.9878 - val_loss: 0.2347 - val_accuracy: 0.9349\n",
            "Epoch 6/10\n",
            "78/78 [==============================] - 391s 5s/step - loss: 0.0363 - accuracy: 0.9876 - val_loss: 0.3045 - val_accuracy: 0.9301\n",
            "Epoch 7/10\n",
            "78/78 [==============================] - 395s 5s/step - loss: 0.0235 - accuracy: 0.9915 - val_loss: 0.2815 - val_accuracy: 0.9205\n",
            "Epoch 8/10\n",
            "78/78 [==============================] - 393s 5s/step - loss: 0.0184 - accuracy: 0.9935 - val_loss: 0.3822 - val_accuracy: 0.9253\n",
            "Restoring model weights from the end of the best epoch.\n",
            "Epoch 00008: early stopping\n"
          ],
          "name": "stdout"
        }
      ]
    },
    {
      "cell_type": "code",
      "metadata": {
        "colab": {
          "base_uri": "https://localhost:8080/"
        },
        "id": "KZB_ljWb0_rb",
        "outputId": "78e59fcd-b82e-4e50-fcef-317ed904c763"
      },
      "source": [
        "model_biLSTM4.evaluate(x_valid, y_valid)"
      ],
      "execution_count": null,
      "outputs": [
        {
          "output_type": "stream",
          "text": [
            "39/39 [==============================] - 13s 334ms/step - loss: 0.2347 - accuracy: 0.9349\n"
          ],
          "name": "stdout"
        },
        {
          "output_type": "execute_result",
          "data": {
            "text/plain": [
              "[0.23469948768615723, 0.9349397420883179]"
            ]
          },
          "metadata": {
            "tags": []
          },
          "execution_count": 19
        }
      ]
    },
    {
      "cell_type": "code",
      "metadata": {
        "colab": {
          "base_uri": "https://localhost:8080/"
        },
        "id": "yPglQ5xc1JRc",
        "outputId": "3725ce28-70b3-4612-a9d0-9ef045459ed7"
      },
      "source": [
        "print(get_cm(model_biLSTM4, x_valid, y_valid))"
      ],
      "execution_count": null,
      "outputs": [
        {
          "output_type": "stream",
          "text": [
            "[[  92   54]\n",
            " [  27 1072]]\n"
          ],
          "name": "stdout"
        }
      ]
    },
    {
      "cell_type": "code",
      "metadata": {
        "id": "Tul9JGq81VfF"
      },
      "source": [
        "make_submission(x_test_df.index, predict_class(model_biLSTM4, x_test), \"submission_LSTM_6.csv\")"
      ],
      "execution_count": null,
      "outputs": []
    },
    {
      "cell_type": "markdown",
      "metadata": {
        "id": "cdTZqgiSh2LY"
      },
      "source": [
        "### LSTM + Word2Vec Embedding:"
      ]
    },
    {
      "cell_type": "code",
      "metadata": {
        "id": "ZCsjemh0h8OI",
        "colab": {
          "base_uri": "https://localhost:8080/"
        },
        "outputId": "1ed3f859-98bd-4938-f8e0-f467dbbff00d"
      },
      "source": [
        "import gensim.downloader as api\n",
        "\n",
        "w2v = api.load('word2vec-google-news-300')\n"
      ],
      "execution_count": null,
      "outputs": [
        {
          "output_type": "stream",
          "text": [
            "[=================================================-] 99.5% 1655.0/1662.8MB downloaded\n"
          ],
          "name": "stdout"
        }
      ]
    },
    {
      "cell_type": "code",
      "metadata": {
        "id": "2F5g_SfP_hEk"
      },
      "source": [
        "early_stopping_lstm = tf.keras.callbacks.EarlyStopping( # early stopping layer for prevent overfitting\n",
        "    monitor='val_loss', \n",
        "    verbose=1,\n",
        "    patience=5,\n",
        "    mode='max',\n",
        "    restore_best_weights=True)"
      ],
      "execution_count": null,
      "outputs": []
    },
    {
      "cell_type": "code",
      "metadata": {
        "id": "8WtBHJ0rvEi_"
      },
      "source": [
        "# mapping the tokens appear in the \"review\" column with the word2vec matrix\n",
        "num_words = len(tokenizer.word_index)+1\n",
        "embedding_matrix = np.zeros((num_words, 300)) # google news word2vec model has dimension of 300\n",
        "for word, i in tokenizer.word_index.items():\n",
        "    if word in w2v.vocab:\n",
        "        embedding_matrix[i] = w2v.word_vec(word)"
      ],
      "execution_count": null,
      "outputs": []
    },
    {
      "cell_type": "code",
      "metadata": {
        "id": "8lUnzO2fzziY"
      },
      "source": [
        "# use the pre-trained word2vec model as the embidding layer\n",
        "embedding_layer = tf.keras.layers.Embedding(num_words,\n",
        "        300,\n",
        "        weights=[embedding_matrix],\n",
        "        input_length=max_len,\n",
        "        trainable=False) # this layer is not trainable"
      ],
      "execution_count": null,
      "outputs": []
    },
    {
      "cell_type": "code",
      "metadata": {
        "colab": {
          "base_uri": "https://localhost:8080/"
        },
        "id": "kivBSqxSz__L",
        "outputId": "9a0ac6f9-59a7-4c79-c13e-b3baad8816f2"
      },
      "source": [
        "model_LSTMw2v = tf.keras.Sequential([\n",
        "    embedding_layer,\n",
        "    tf.keras.layers.Bidirectional(tf.keras.layers.LSTM(128, dropout = 0.8, recurrent_dropout=0.8, return_sequences=True)), # same as the previous LSTM model\n",
        "    tf.keras.layers.Bidirectional(tf.keras.layers.LSTM(128, dropout = 0.5, recurrent_dropout=0.5, return_sequences=False)), # \n",
        "    tf.keras.layers.Dense(128, activation = 'relu'),\n",
        "    tf.keras.layers.Dropout(0.5),\n",
        "    tf.keras.layers.Dense(1, activation = 'sigmoid')\n",
        "])\n",
        "\n",
        "model_LSTMw2v.compile(\n",
        "    optimizer=Adam(clipnorm=4.),\n",
        "    loss='binary_crossentropy',\n",
        "    metrics=['accuracy'])\n",
        "\n",
        "model_LSTMw2v.summary()"
      ],
      "execution_count": null,
      "outputs": [
        {
          "output_type": "stream",
          "text": [
            "WARNING:tensorflow:Layer lstm_6 will not use cuDNN kernel since it doesn't meet the cuDNN kernel criteria. It will use generic GPU kernel as fallback when running on GPU\n",
            "WARNING:tensorflow:Layer lstm_6 will not use cuDNN kernel since it doesn't meet the cuDNN kernel criteria. It will use generic GPU kernel as fallback when running on GPU\n",
            "WARNING:tensorflow:Layer lstm_6 will not use cuDNN kernel since it doesn't meet the cuDNN kernel criteria. It will use generic GPU kernel as fallback when running on GPU\n",
            "WARNING:tensorflow:Layer lstm_7 will not use cuDNN kernel since it doesn't meet the cuDNN kernel criteria. It will use generic GPU kernel as fallback when running on GPU\n",
            "WARNING:tensorflow:Layer lstm_7 will not use cuDNN kernel since it doesn't meet the cuDNN kernel criteria. It will use generic GPU kernel as fallback when running on GPU\n",
            "WARNING:tensorflow:Layer lstm_7 will not use cuDNN kernel since it doesn't meet the cuDNN kernel criteria. It will use generic GPU kernel as fallback when running on GPU\n",
            "Model: \"sequential_3\"\n",
            "_________________________________________________________________\n",
            "Layer (type)                 Output Shape              Param #   \n",
            "=================================================================\n",
            "embedding_1 (Embedding)      (None, 500, 300)          4411800   \n",
            "_________________________________________________________________\n",
            "bidirectional_6 (Bidirection (None, 500, 256)          439296    \n",
            "_________________________________________________________________\n",
            "bidirectional_7 (Bidirection (None, 256)               394240    \n",
            "_________________________________________________________________\n",
            "dense_6 (Dense)              (None, 128)               32896     \n",
            "_________________________________________________________________\n",
            "dropout_3 (Dropout)          (None, 128)               0         \n",
            "_________________________________________________________________\n",
            "dense_7 (Dense)              (None, 1)                 129       \n",
            "=================================================================\n",
            "Total params: 5,278,361\n",
            "Trainable params: 866,561\n",
            "Non-trainable params: 4,411,800\n",
            "_________________________________________________________________\n"
          ],
          "name": "stdout"
        }
      ]
    },
    {
      "cell_type": "code",
      "metadata": {
        "colab": {
          "base_uri": "https://localhost:8080/"
        },
        "id": "pFKf6okx0OUo",
        "outputId": "a5854a5e-6a41-4063-8b86-65be3039fbf3"
      },
      "source": [
        "history_LSTMw2v = model_LSTMw2v.fit(x_train,\n",
        "                    y_train,\n",
        "                    epochs=20,\n",
        "                    batch_size=128,\n",
        "                    validation_data=(x_valid, y_valid),\n",
        "                    verbose=1,\n",
        "                    callbacks=[early_stopping])"
      ],
      "execution_count": null,
      "outputs": [
        {
          "output_type": "stream",
          "text": [
            "Epoch 1/20\n",
            "39/39 [==============================] - 206s 5s/step - loss: 0.4709 - accuracy: 0.8143 - val_loss: 0.3014 - val_accuracy: 0.8827\n",
            "Epoch 2/20\n",
            "39/39 [==============================] - 198s 5s/step - loss: 0.3027 - accuracy: 0.8778 - val_loss: 0.2510 - val_accuracy: 0.8843\n",
            "Epoch 3/20\n",
            "39/39 [==============================] - 197s 5s/step - loss: 0.2756 - accuracy: 0.8851 - val_loss: 0.2111 - val_accuracy: 0.9133\n",
            "Epoch 4/20\n",
            "39/39 [==============================] - 197s 5s/step - loss: 0.2498 - accuracy: 0.8991 - val_loss: 0.2310 - val_accuracy: 0.9036\n",
            "Epoch 5/20\n",
            "39/39 [==============================] - 197s 5s/step - loss: 0.2438 - accuracy: 0.8959 - val_loss: 0.2126 - val_accuracy: 0.9149\n",
            "Epoch 6/20\n",
            "39/39 [==============================] - 196s 5s/step - loss: 0.2270 - accuracy: 0.9087 - val_loss: 0.2059 - val_accuracy: 0.9116\n",
            "Epoch 7/20\n",
            "39/39 [==============================] - 198s 5s/step - loss: 0.2308 - accuracy: 0.9038 - val_loss: 0.1843 - val_accuracy: 0.9269\n",
            "Epoch 8/20\n",
            "39/39 [==============================] - 197s 5s/step - loss: 0.2331 - accuracy: 0.9116 - val_loss: 0.1900 - val_accuracy: 0.9181\n",
            "Epoch 9/20\n",
            "39/39 [==============================] - 198s 5s/step - loss: 0.2180 - accuracy: 0.9193 - val_loss: 0.2497 - val_accuracy: 0.8940\n",
            "Epoch 10/20\n",
            "39/39 [==============================] - 198s 5s/step - loss: 0.2294 - accuracy: 0.9183 - val_loss: 0.1790 - val_accuracy: 0.9189\n",
            "Restoring model weights from the end of the best epoch.\n",
            "Epoch 00010: early stopping\n"
          ],
          "name": "stdout"
        }
      ]
    },
    {
      "cell_type": "code",
      "metadata": {
        "colab": {
          "base_uri": "https://localhost:8080/"
        },
        "id": "c1od4xt29PjT",
        "outputId": "4071dce6-61ee-4c5d-af92-ecd67cce797f"
      },
      "source": [
        "model_LSTMw2v.evaluate(x_valid, y_valid) # evaluate model"
      ],
      "execution_count": null,
      "outputs": [
        {
          "output_type": "stream",
          "text": [
            "39/39 [==============================] - 13s 345ms/step - loss: 0.1843 - accuracy: 0.9269\n"
          ],
          "name": "stdout"
        },
        {
          "output_type": "execute_result",
          "data": {
            "text/plain": [
              "[0.18431265652179718, 0.9269076585769653]"
            ]
          },
          "metadata": {
            "tags": []
          },
          "execution_count": 35
        }
      ]
    },
    {
      "cell_type": "code",
      "metadata": {
        "colab": {
          "base_uri": "https://localhost:8080/"
        },
        "id": "Bi_2cmCI9eMV",
        "outputId": "75efa720-90aa-425f-eb69-03c1084f5db2"
      },
      "source": [
        "print(get_cm(model_LSTMw2v, x_valid, y_valid))"
      ],
      "execution_count": null,
      "outputs": [
        {
          "output_type": "stream",
          "text": [
            "[[  87   59]\n",
            " [  32 1067]]\n"
          ],
          "name": "stdout"
        }
      ]
    },
    {
      "cell_type": "code",
      "metadata": {
        "id": "8ulgFZSF0cfP"
      },
      "source": [
        "make_submission(x_test_df.index, predict_class(model_LSTMw2v, x_test), \"submission_LSTM_7.csv\")"
      ],
      "execution_count": null,
      "outputs": []
    },
    {
      "cell_type": "code",
      "metadata": {
        "colab": {
          "base_uri": "https://localhost:8080/"
        },
        "id": "3qmrfsfq1FT9",
        "outputId": "1edbc5d6-9e46-4bf5-9fc1-82f4e1513475"
      },
      "source": [
        "model_LSTMw2v2 = tf.keras.Sequential([\n",
        "    embedding_layer,\n",
        "    tf.keras.layers.Bidirectional(tf.keras.layers.LSTM(128, dropout = 0.8, recurrent_dropout=0.8, return_sequences=True)), # \n",
        "    tf.keras.layers.Bidirectional(tf.keras.layers.LSTM(64, return_sequences=False)), # different unit\n",
        "    tf.keras.layers.Dense(128, activation = 'relu'),\n",
        "    tf.keras.layers.Dropout(0.5),\n",
        "    tf.keras.layers.Dense(1, activation = 'sigmoid')\n",
        "])\n",
        "\n",
        "model_LSTMw2v2.compile(\n",
        "    optimizer=Adam(clipnorm=4.),\n",
        "    loss='binary_crossentropy',\n",
        "    metrics=['accuracy'])\n",
        "\n",
        "model_LSTMw2v2.summary()"
      ],
      "execution_count": null,
      "outputs": [
        {
          "output_type": "stream",
          "text": [
            "Model: \"sequential_1\"\n",
            "_________________________________________________________________\n",
            "Layer (type)                 Output Shape              Param #   \n",
            "=================================================================\n",
            "embedding_1 (Embedding)      (None, 500, 300)          4411800   \n",
            "_________________________________________________________________\n",
            "bidirectional_2 (Bidirection (None, 500, 256)          439296    \n",
            "_________________________________________________________________\n",
            "bidirectional_3 (Bidirection (None, 128)               164352    \n",
            "_________________________________________________________________\n",
            "dense_2 (Dense)              (None, 128)               16512     \n",
            "_________________________________________________________________\n",
            "dropout_1 (Dropout)          (None, 128)               0         \n",
            "_________________________________________________________________\n",
            "dense_3 (Dense)              (None, 1)                 129       \n",
            "=================================================================\n",
            "Total params: 5,032,089\n",
            "Trainable params: 620,289\n",
            "Non-trainable params: 4,411,800\n",
            "_________________________________________________________________\n"
          ],
          "name": "stdout"
        }
      ]
    },
    {
      "cell_type": "code",
      "metadata": {
        "colab": {
          "base_uri": "https://localhost:8080/"
        },
        "id": "o87r52dd1Zbh",
        "outputId": "31dcf738-fafc-407e-a1e0-59022055c08e"
      },
      "source": [
        "history_LSTMw2v2 = model_LSTMw2v2.fit(x_train,\n",
        "                    y_train,\n",
        "                    epochs=20,\n",
        "                    batch_size=128,\n",
        "                    validation_data=(x_valid, y_valid),\n",
        "                    verbose=1,\n",
        "                    callbacks=[early_stopping])"
      ],
      "execution_count": null,
      "outputs": [
        {
          "output_type": "stream",
          "text": [
            "Epoch 1/20\n",
            "39/39 [==============================] - 369s 9s/step - loss: 0.4797 - accuracy: 0.8243 - val_loss: 0.3301 - val_accuracy: 0.8827\n",
            "Epoch 2/20\n",
            "39/39 [==============================] - 359s 9s/step - loss: 0.3244 - accuracy: 0.8778 - val_loss: 0.2294 - val_accuracy: 0.8940\n",
            "Epoch 3/20\n",
            "39/39 [==============================] - 357s 9s/step - loss: 0.2672 - accuracy: 0.8897 - val_loss: 0.2527 - val_accuracy: 0.8908\n",
            "Epoch 4/20\n",
            "39/39 [==============================] - 358s 9s/step - loss: 0.2498 - accuracy: 0.8945 - val_loss: 0.1921 - val_accuracy: 0.9197\n",
            "Epoch 5/20\n",
            "39/39 [==============================] - 359s 9s/step - loss: 0.2518 - accuracy: 0.8969 - val_loss: 0.1924 - val_accuracy: 0.9213\n",
            "Epoch 6/20\n",
            "39/39 [==============================] - 360s 9s/step - loss: 0.2407 - accuracy: 0.9108 - val_loss: 0.2064 - val_accuracy: 0.9197\n",
            "Epoch 7/20\n",
            "39/39 [==============================] - 358s 9s/step - loss: 0.2493 - accuracy: 0.8981 - val_loss: 0.2519 - val_accuracy: 0.9020\n",
            "Epoch 8/20\n",
            "39/39 [==============================] - 358s 9s/step - loss: 0.2357 - accuracy: 0.9090 - val_loss: 0.1937 - val_accuracy: 0.9173\n",
            "Restoring model weights from the end of the best epoch.\n",
            "Epoch 00008: early stopping\n"
          ],
          "name": "stdout"
        }
      ]
    },
    {
      "cell_type": "code",
      "metadata": {
        "colab": {
          "base_uri": "https://localhost:8080/"
        },
        "id": "QOVKa6bygj3Y",
        "outputId": "a6759702-a70d-4f5a-e9f1-3ea38a41069f"
      },
      "source": [
        "model_LSTMw2v2.evaluate(x_valid, y_valid)"
      ],
      "execution_count": null,
      "outputs": [
        {
          "output_type": "stream",
          "text": [
            "39/39 [==============================] - 21s 547ms/step - loss: 0.1924 - accuracy: 0.9213\n"
          ],
          "name": "stdout"
        },
        {
          "output_type": "execute_result",
          "data": {
            "text/plain": [
              "[0.1924322545528412, 0.9212851524353027]"
            ]
          },
          "metadata": {
            "tags": []
          },
          "execution_count": 26
        }
      ]
    },
    {
      "cell_type": "code",
      "metadata": {
        "colab": {
          "base_uri": "https://localhost:8080/"
        },
        "id": "lysFQJSjg14b",
        "outputId": "65575913-492b-4f90-992a-e989df91cb67"
      },
      "source": [
        "print(get_cm(model_LSTMw2v2, x_valid, y_valid))"
      ],
      "execution_count": null,
      "outputs": [
        {
          "output_type": "stream",
          "text": [
            "[[  86   60]\n",
            " [  38 1061]]\n"
          ],
          "name": "stdout"
        }
      ]
    },
    {
      "cell_type": "markdown",
      "metadata": {
        "id": "HswZ8g1PDiEd"
      },
      "source": [
        "## Questions:"
      ]
    },
    {
      "cell_type": "markdown",
      "metadata": {
        "id": "FOvrHpntxKke"
      },
      "source": [
        "1.\n",
        "\n",
        "The many-to-many problem is mapping a sequence of words to another sequence of words. Typically the translation task falls into this kind of problems.\n",
        "\n",
        "The many to one problem is mapping a squence of words to a single class. Typically binary classification of sequence of words (sentiment analysis) falls into the kind of problem."
      ]
    },
    {
      "cell_type": "markdown",
      "metadata": {
        "id": "nqMdI_e4xK7T"
      },
      "source": [
        "2.\n",
        "\n",
        "Gradient Vanishing: in multi-layer neural network, the parameters are updated based on the gradient descent where we have to computes the partial derivative. However, for some layers, the calculation of gradient will based on chain rule. Therefore, if one of the elements in chain rule is < 1, then the overall will decrease exponentially and finally reach 0, leads gradient Vanishing.\n",
        "\n",
        "Graident Explosion: the same as above except the element in chain rule is now > 1, the overall will increase exponentially and finlly goes to infinity, leads to gradient explosion."
      ]
    },
    {
      "cell_type": "markdown",
      "metadata": {
        "id": "c0RHmjfExLRM"
      },
      "source": [
        "3.\n",
        "\n",
        "In the sample model, there are no such function to handle with the time dimension. The reduce_mean() function is used for reduce dimensionality of the embedding layer, not exactly used for handling time dimension. I would not suggest to use this method because it could not catch the information between contexts."
      ]
    },
    {
      "cell_type": "markdown",
      "metadata": {
        "id": "Nv4Y1l7qS4Xm"
      },
      "source": [
        "4.\n",
        "\n",
        "The main differences between GRU and LSTM are GRU has two gates, namely update gate and reset gate; while LSTM has three gates, namely input gate, output gate and forget gate. LSTM in theory could memorize longer sequence than GRU but GRU is simpler than LSTM and easy to modify."
      ]
    }
  ]
}